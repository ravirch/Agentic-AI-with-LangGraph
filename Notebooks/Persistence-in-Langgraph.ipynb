{
 "cells": [
  {
   "cell_type": "markdown",
   "id": "9489390c",
   "metadata": {},
   "source": [
    "### Persistence in Langgraph\n",
    "This project demonstrates how to implement persistence in LangGraph, ensuring that workflows, states, and intermediate results are stored and retrievable across sessions. By adding persistence, the system maintains continuity, enabling workflows to resume from saved states instead of restarting, which is essential for building reliable, production-ready AI applications."
   ]
  },
  {
   "cell_type": "code",
   "execution_count": 1,
   "id": "5fe01464",
   "metadata": {},
   "outputs": [],
   "source": [
    "from langgraph.graph import StateGraph, START, END\n",
    "from typing import TypedDict\n",
    "from langchain_openai import ChatOpenAI\n",
    "from dotenv import load_dotenv\n",
    "\n",
    "# InMemorySaver is a simple in-memory checkpoint saver\n",
    "# InMemorySaver is used to save checkpoints in RAM\n",
    "from langgraph.checkpoint.memory import InMemorySaver"
   ]
  },
  {
   "cell_type": "code",
   "execution_count": 2,
   "id": "d65bfc11",
   "metadata": {},
   "outputs": [],
   "source": [
    "load_dotenv()\n",
    "llm = ChatOpenAI()"
   ]
  },
  {
   "cell_type": "code",
   "execution_count": 3,
   "id": "5922b899",
   "metadata": {},
   "outputs": [],
   "source": [
    "# Create a state\n",
    "class JokeState(TypedDict):\n",
    "    topic: str\n",
    "    joke: str\n",
    "    explanation: str"
   ]
  },
  {
   "cell_type": "code",
   "execution_count": 4,
   "id": "0561076c",
   "metadata": {},
   "outputs": [],
   "source": [
    "# define nodes\n",
    "\n",
    "def generate_joke(state: JokeState):\n",
    "\n",
    "    prompt = f'generate a joke on the topic {state[\"topic\"]}'\n",
    "    response = llm.invoke(prompt).content\n",
    "\n",
    "    return {'joke': response}\n",
    "\n",
    "def generate_explanation(state: JokeState):\n",
    "\n",
    "    prompt = f'write an explanation for the joke - {state[\"joke\"]}'\n",
    "    response = llm.invoke(prompt).content\n",
    "\n",
    "    return {'explanation': response}"
   ]
  },
  {
   "cell_type": "code",
   "execution_count": 5,
   "id": "a1093470",
   "metadata": {},
   "outputs": [],
   "source": [
    "# create graph with memory persistence\n",
    "\n",
    "graph = StateGraph(JokeState)\n",
    "\n",
    "graph.add_node('generate_joke', generate_joke)\n",
    "graph.add_node('generate_explanation', generate_explanation)\n",
    "\n",
    "graph.add_edge(START, 'generate_joke')\n",
    "graph.add_edge('generate_joke', 'generate_explanation')\n",
    "graph.add_edge('generate_explanation', END)\n",
    "\n",
    "# Compile the graph with an in-memory checkpointer\n",
    "checkpointer = InMemorySaver()\n",
    "workflow = graph.compile(checkpointer=checkpointer)"
   ]
  },
  {
   "cell_type": "code",
   "execution_count": 6,
   "id": "5e8f11c8",
   "metadata": {},
   "outputs": [
    {
     "data": {
      "text/plain": [
       "{'topic': 'pizza',\n",
       " 'joke': \"Why did the pizza go to the therapist? Because it had too many toppings and couldn't handle the pressure!\",\n",
       " 'explanation': 'This joke is a play on words, using the idea of a pizza seeking therapy as if it were a person with emotional struggles. The punchline - \"it had too many toppings and couldn\\'t handle the pressure\" - humorously suggests that the pizza was overwhelmed by the weight of all the toppings placed on it, causing it to seek professional help. The joke is meant to be light-hearted and silly, making light of the idea that a pizza could have psychological issues.'}"
      ]
     },
     "execution_count": 6,
     "metadata": {},
     "output_type": "execute_result"
    }
   ],
   "source": [
    "# creating thread with Persistence\n",
    "# thread_id is used to identify the thread\n",
    "\n",
    "config1 = {\"configurable\": {\"thread_id\": \"1\"}}\n",
    "workflow.invoke({'topic':'pizza'}, config=config1)"
   ]
  },
  {
   "cell_type": "code",
   "execution_count": 7,
   "id": "a6857b9c",
   "metadata": {},
   "outputs": [
    {
     "data": {
      "text/plain": [
       "StateSnapshot(values={'topic': 'pizza', 'joke': \"Why did the pizza go to the therapist? Because it had too many toppings and couldn't handle the pressure!\", 'explanation': 'This joke is a play on words, using the idea of a pizza seeking therapy as if it were a person with emotional struggles. The punchline - \"it had too many toppings and couldn\\'t handle the pressure\" - humorously suggests that the pizza was overwhelmed by the weight of all the toppings placed on it, causing it to seek professional help. The joke is meant to be light-hearted and silly, making light of the idea that a pizza could have psychological issues.'}, next=(), config={'configurable': {'thread_id': '1', 'checkpoint_ns': '', 'checkpoint_id': '1f09f8cb-2724-6c98-8002-209a37956ac9'}}, metadata={'source': 'loop', 'step': 2, 'parents': {}}, created_at='2025-10-02T12:38:28.655819+00:00', parent_config={'configurable': {'thread_id': '1', 'checkpoint_ns': '', 'checkpoint_id': '1f09f8cb-1c4d-62db-8001-797bec3cdb83'}}, tasks=(), interrupts=())"
      ]
     },
     "execution_count": 7,
     "metadata": {},
     "output_type": "execute_result"
    }
   ],
   "source": [
    "# workflow.get_state will return the current state (final) of the workflow\n",
    "\n",
    "workflow.get_state(config1)"
   ]
  },
  {
   "cell_type": "code",
   "execution_count": 8,
   "id": "eb9eecda",
   "metadata": {},
   "outputs": [
    {
     "data": {
      "text/plain": [
       "[StateSnapshot(values={'topic': 'pizza', 'joke': \"Why did the pizza go to the therapist? Because it had too many toppings and couldn't handle the pressure!\", 'explanation': 'This joke is a play on words, using the idea of a pizza seeking therapy as if it were a person with emotional struggles. The punchline - \"it had too many toppings and couldn\\'t handle the pressure\" - humorously suggests that the pizza was overwhelmed by the weight of all the toppings placed on it, causing it to seek professional help. The joke is meant to be light-hearted and silly, making light of the idea that a pizza could have psychological issues.'}, next=(), config={'configurable': {'thread_id': '1', 'checkpoint_ns': '', 'checkpoint_id': '1f09f8cb-2724-6c98-8002-209a37956ac9'}}, metadata={'source': 'loop', 'step': 2, 'parents': {}}, created_at='2025-10-02T12:38:28.655819+00:00', parent_config={'configurable': {'thread_id': '1', 'checkpoint_ns': '', 'checkpoint_id': '1f09f8cb-1c4d-62db-8001-797bec3cdb83'}}, tasks=(), interrupts=()),\n",
       " StateSnapshot(values={'topic': 'pizza', 'joke': \"Why did the pizza go to the therapist? Because it had too many toppings and couldn't handle the pressure!\"}, next=('generate_explanation',), config={'configurable': {'thread_id': '1', 'checkpoint_ns': '', 'checkpoint_id': '1f09f8cb-1c4d-62db-8001-797bec3cdb83'}}, metadata={'source': 'loop', 'step': 1, 'parents': {}}, created_at='2025-10-02T12:38:27.518917+00:00', parent_config={'configurable': {'thread_id': '1', 'checkpoint_ns': '', 'checkpoint_id': '1f09f8cb-0a5f-6a34-8000-0bcbcee08529'}}, tasks=(PregelTask(id='07d47d46-6b52-9387-727d-b50f242dc366', name='generate_explanation', path=('__pregel_pull', 'generate_explanation'), error=None, interrupts=(), state=None, result={'explanation': 'This joke is a play on words, using the idea of a pizza seeking therapy as if it were a person with emotional struggles. The punchline - \"it had too many toppings and couldn\\'t handle the pressure\" - humorously suggests that the pizza was overwhelmed by the weight of all the toppings placed on it, causing it to seek professional help. The joke is meant to be light-hearted and silly, making light of the idea that a pizza could have psychological issues.'}),), interrupts=()),\n",
       " StateSnapshot(values={'topic': 'pizza'}, next=('generate_joke',), config={'configurable': {'thread_id': '1', 'checkpoint_ns': '', 'checkpoint_id': '1f09f8cb-0a5f-6a34-8000-0bcbcee08529'}}, metadata={'source': 'loop', 'step': 0, 'parents': {}}, created_at='2025-10-02T12:38:25.639050+00:00', parent_config={'configurable': {'thread_id': '1', 'checkpoint_ns': '', 'checkpoint_id': '1f09f8cb-0a5a-6e3d-bfff-802eef92d89e'}}, tasks=(PregelTask(id='525484c8-2f88-6136-28c0-ad3bbd16a792', name='generate_joke', path=('__pregel_pull', 'generate_joke'), error=None, interrupts=(), state=None, result={'joke': \"Why did the pizza go to the therapist? Because it had too many toppings and couldn't handle the pressure!\"}),), interrupts=()),\n",
       " StateSnapshot(values={}, next=('__start__',), config={'configurable': {'thread_id': '1', 'checkpoint_ns': '', 'checkpoint_id': '1f09f8cb-0a5a-6e3d-bfff-802eef92d89e'}}, metadata={'source': 'input', 'step': -1, 'parents': {}}, created_at='2025-10-02T12:38:25.637108+00:00', parent_config=None, tasks=(PregelTask(id='4ff8077b-df96-95db-8258-a5c2612bd06e', name='__start__', path=('__pregel_pull', '__start__'), error=None, interrupts=(), state=None, result={'topic': 'pizza'}),), interrupts=())]"
      ]
     },
     "execution_count": 8,
     "metadata": {},
     "output_type": "execute_result"
    }
   ],
   "source": [
    "# to check intermediate states, we can use get_state_history\n",
    "# 4 history states will be there\n",
    "# 1. initial state with topic\n",
    "# 2. after generate_joke node\n",
    "# 3. after generate_explanation node\n",
    "# 4. final state\n",
    "\n",
    "list(workflow.get_state_history(config1))"
   ]
  },
  {
   "cell_type": "code",
   "execution_count": 9,
   "id": "628a9f28",
   "metadata": {},
   "outputs": [
    {
     "data": {
      "text/plain": [
       "{'topic': 'pasta',\n",
       " 'joke': \"Why did the fusilli feel left out of the pasta party? Because it couldn't find a spiral partner to dance with!\",\n",
       " 'explanation': \"This joke plays on the shape of fusilli pasta, which is spiral-shaped. In the context of a pasta party, where different types of pasta are coming together to have fun, the fusilli feels left out because it couldn't find another spiral-shaped pasta to dance with. The humor comes from the personification of the pasta and the idea of pasta dancing together at a party.\"}"
      ]
     },
     "execution_count": 9,
     "metadata": {},
     "output_type": "execute_result"
    }
   ],
   "source": [
    "# with a different thread_id, we can create a new thread\n",
    "\n",
    "config2 = {\"configurable\": {\"thread_id\": \"2\"}}\n",
    "workflow.invoke({'topic':'pasta'}, config=config2)"
   ]
  },
  {
   "cell_type": "code",
   "execution_count": 10,
   "id": "eef5beb5",
   "metadata": {},
   "outputs": [
    {
     "data": {
      "text/plain": [
       "StateSnapshot(values={'topic': 'pasta', 'joke': \"Why did the fusilli feel left out of the pasta party? Because it couldn't find a spiral partner to dance with!\", 'explanation': \"This joke plays on the shape of fusilli pasta, which is spiral-shaped. In the context of a pasta party, where different types of pasta are coming together to have fun, the fusilli feels left out because it couldn't find another spiral-shaped pasta to dance with. The humor comes from the personification of the pasta and the idea of pasta dancing together at a party.\"}, next=(), config={'configurable': {'thread_id': '2', 'checkpoint_ns': '', 'checkpoint_id': '1f09f8cb-38b9-6619-8002-019fc5e8d792'}}, metadata={'source': 'loop', 'step': 2, 'parents': {}}, created_at='2025-10-02T12:38:30.499251+00:00', parent_config={'configurable': {'thread_id': '2', 'checkpoint_ns': '', 'checkpoint_id': '1f09f8cb-2fea-6c07-8001-48f3dfcfb19a'}}, tasks=(), interrupts=())"
      ]
     },
     "execution_count": 10,
     "metadata": {},
     "output_type": "execute_result"
    }
   ],
   "source": [
    "workflow.get_state(config2)"
   ]
  },
  {
   "cell_type": "code",
   "execution_count": 11,
   "id": "f7d0ea21",
   "metadata": {},
   "outputs": [
    {
     "data": {
      "text/plain": [
       "[StateSnapshot(values={'topic': 'pasta', 'joke': \"Why did the fusilli feel left out of the pasta party? Because it couldn't find a spiral partner to dance with!\", 'explanation': \"This joke plays on the shape of fusilli pasta, which is spiral-shaped. In the context of a pasta party, where different types of pasta are coming together to have fun, the fusilli feels left out because it couldn't find another spiral-shaped pasta to dance with. The humor comes from the personification of the pasta and the idea of pasta dancing together at a party.\"}, next=(), config={'configurable': {'thread_id': '2', 'checkpoint_ns': '', 'checkpoint_id': '1f09f8cb-38b9-6619-8002-019fc5e8d792'}}, metadata={'source': 'loop', 'step': 2, 'parents': {}}, created_at='2025-10-02T12:38:30.499251+00:00', parent_config={'configurable': {'thread_id': '2', 'checkpoint_ns': '', 'checkpoint_id': '1f09f8cb-2fea-6c07-8001-48f3dfcfb19a'}}, tasks=(), interrupts=()),\n",
       " StateSnapshot(values={'topic': 'pasta', 'joke': \"Why did the fusilli feel left out of the pasta party? Because it couldn't find a spiral partner to dance with!\"}, next=('generate_explanation',), config={'configurable': {'thread_id': '2', 'checkpoint_ns': '', 'checkpoint_id': '1f09f8cb-2fea-6c07-8001-48f3dfcfb19a'}}, metadata={'source': 'loop', 'step': 1, 'parents': {}}, created_at='2025-10-02T12:38:29.575751+00:00', parent_config={'configurable': {'thread_id': '2', 'checkpoint_ns': '', 'checkpoint_id': '1f09f8cb-278c-6131-8000-9315f6451c4a'}}, tasks=(PregelTask(id='133dbf06-22ff-2307-b0da-13f60cb15f16', name='generate_explanation', path=('__pregel_pull', 'generate_explanation'), error=None, interrupts=(), state=None, result={'explanation': \"This joke plays on the shape of fusilli pasta, which is spiral-shaped. In the context of a pasta party, where different types of pasta are coming together to have fun, the fusilli feels left out because it couldn't find another spiral-shaped pasta to dance with. The humor comes from the personification of the pasta and the idea of pasta dancing together at a party.\"}),), interrupts=()),\n",
       " StateSnapshot(values={'topic': 'pasta'}, next=('generate_joke',), config={'configurable': {'thread_id': '2', 'checkpoint_ns': '', 'checkpoint_id': '1f09f8cb-278c-6131-8000-9315f6451c4a'}}, metadata={'source': 'loop', 'step': 0, 'parents': {}}, created_at='2025-10-02T12:38:28.698126+00:00', parent_config={'configurable': {'thread_id': '2', 'checkpoint_ns': '', 'checkpoint_id': '1f09f8cb-2789-6832-bfff-3853689c3fea'}}, tasks=(PregelTask(id='99ddf181-877a-56eb-0d86-bd5873e19951', name='generate_joke', path=('__pregel_pull', 'generate_joke'), error=None, interrupts=(), state=None, result={'joke': \"Why did the fusilli feel left out of the pasta party? Because it couldn't find a spiral partner to dance with!\"}),), interrupts=()),\n",
       " StateSnapshot(values={}, next=('__start__',), config={'configurable': {'thread_id': '2', 'checkpoint_ns': '', 'checkpoint_id': '1f09f8cb-2789-6832-bfff-3853689c3fea'}}, metadata={'source': 'input', 'step': -1, 'parents': {}}, created_at='2025-10-02T12:38:28.697084+00:00', parent_config=None, tasks=(PregelTask(id='975006d6-7ef3-4e72-a6af-9dc0a19830ec', name='__start__', path=('__pregel_pull', '__start__'), error=None, interrupts=(), state=None, result={'topic': 'pasta'}),), interrupts=())]"
      ]
     },
     "execution_count": 11,
     "metadata": {},
     "output_type": "execute_result"
    }
   ],
   "source": [
    "list(workflow.get_state_history(config2))"
   ]
  },
  {
   "cell_type": "markdown",
   "id": "5fccccee",
   "metadata": {},
   "source": [
    "### Time Travel\n",
    "\n",
    "Sometime it is helpful in debugging, we can replay graph from specific point."
   ]
  },
  {
   "cell_type": "code",
   "execution_count": 13,
   "id": "b5bfa235",
   "metadata": {},
   "outputs": [
    {
     "data": {
      "text/plain": [
       "StateSnapshot(values={'topic': 'pasta'}, next=('generate_joke',), config={'configurable': {'thread_id': '2', 'checkpoint_id': '1f09f8cb-278c-6131-8000-9315f6451c4a'}}, metadata={'source': 'loop', 'step': 0, 'parents': {}}, created_at='2025-10-02T12:38:28.698126+00:00', parent_config={'configurable': {'thread_id': '2', 'checkpoint_ns': '', 'checkpoint_id': '1f09f8cb-2789-6832-bfff-3853689c3fea'}}, tasks=(PregelTask(id='99ddf181-877a-56eb-0d86-bd5873e19951', name='generate_joke', path=('__pregel_pull', 'generate_joke'), error=None, interrupts=(), state=None, result={'joke': \"Why did the fusilli feel left out of the pasta party? Because it couldn't find a spiral partner to dance with!\"}),), interrupts=())"
      ]
     },
     "execution_count": 13,
     "metadata": {},
     "output_type": "execute_result"
    }
   ],
   "source": [
    "# add thread_id and checkpoint_id to resume from a specific checkpoint\n",
    "# copy thread id from above cell and checkpoint id from get_state_history\n",
    "\n",
    "workflow.get_state({\"configurable\": {\"thread_id\": \"2\", \"checkpoint_id\": \"1f09f8cb-278c-6131-8000-9315f6451c4a\"}})"
   ]
  },
  {
   "cell_type": "code",
   "execution_count": 14,
   "id": "1a7d2e73",
   "metadata": {},
   "outputs": [
    {
     "data": {
      "text/plain": [
       "{'topic': 'pasta',\n",
       " 'joke': \"Why did the pasta go to the party alone? Because it couldn't find a date sauce!\",\n",
       " 'explanation': 'This joke is a play on words. \"Date sauce\" sounds like \"mate sauce,\" which refers to a partner or date for the party. The pasta couldn\\'t find a \"date sauce\" because it couldn\\'t find a date to accompany it to the party. The humor comes from the pun on the word \"sauce\" and the clever wordplay.'}"
      ]
     },
     "execution_count": 14,
     "metadata": {},
     "output_type": "execute_result"
    }
   ],
   "source": [
    "# re-run to show time travel resume\n",
    "\n",
    "workflow.invoke(None, {\"configurable\": {\"thread_id\": \"2\", \"checkpoint_id\": \"1f09f8cb-278c-6131-8000-9315f6451c4a\"}})"
   ]
  },
  {
   "cell_type": "code",
   "execution_count": 15,
   "id": "cd55cf35",
   "metadata": {},
   "outputs": [
    {
     "data": {
      "text/plain": [
       "[StateSnapshot(values={'topic': 'pasta', 'joke': \"Why did the pasta go to the party alone? Because it couldn't find a date sauce!\", 'explanation': 'This joke is a play on words. \"Date sauce\" sounds like \"mate sauce,\" which refers to a partner or date for the party. The pasta couldn\\'t find a \"date sauce\" because it couldn\\'t find a date to accompany it to the party. The humor comes from the pun on the word \"sauce\" and the clever wordplay.'}, next=(), config={'configurable': {'thread_id': '2', 'checkpoint_ns': '', 'checkpoint_id': '1f09f8cc-b67a-6af2-8002-8a5495f0185d'}}, metadata={'source': 'loop', 'step': 2, 'parents': {}}, created_at='2025-10-02T12:39:10.529166+00:00', parent_config={'configurable': {'thread_id': '2', 'checkpoint_ns': '', 'checkpoint_id': '1f09f8cc-abbc-684b-8001-ce3f0e3ba985'}}, tasks=(), interrupts=()),\n",
       " StateSnapshot(values={'topic': 'pasta', 'joke': \"Why did the pasta go to the party alone? Because it couldn't find a date sauce!\"}, next=('generate_explanation',), config={'configurable': {'thread_id': '2', 'checkpoint_ns': '', 'checkpoint_id': '1f09f8cc-abbc-684b-8001-ce3f0e3ba985'}}, metadata={'source': 'loop', 'step': 1, 'parents': {}}, created_at='2025-10-02T12:39:09.402717+00:00', parent_config={'configurable': {'thread_id': '2', 'checkpoint_ns': '', 'checkpoint_id': '1f09f8cb-278c-6131-8000-9315f6451c4a'}}, tasks=(PregelTask(id='4332db6c-c15f-3d3d-dc17-98c0c848fea5', name='generate_explanation', path=('__pregel_pull', 'generate_explanation'), error=None, interrupts=(), state=None, result={'explanation': 'This joke is a play on words. \"Date sauce\" sounds like \"mate sauce,\" which refers to a partner or date for the party. The pasta couldn\\'t find a \"date sauce\" because it couldn\\'t find a date to accompany it to the party. The humor comes from the pun on the word \"sauce\" and the clever wordplay.'}),), interrupts=()),\n",
       " StateSnapshot(values={'topic': 'pasta', 'joke': \"Why did the fusilli feel left out of the pasta party? Because it couldn't find a spiral partner to dance with!\", 'explanation': \"This joke plays on the shape of fusilli pasta, which is spiral-shaped. In the context of a pasta party, where different types of pasta are coming together to have fun, the fusilli feels left out because it couldn't find another spiral-shaped pasta to dance with. The humor comes from the personification of the pasta and the idea of pasta dancing together at a party.\"}, next=(), config={'configurable': {'thread_id': '2', 'checkpoint_ns': '', 'checkpoint_id': '1f09f8cb-38b9-6619-8002-019fc5e8d792'}}, metadata={'source': 'loop', 'step': 2, 'parents': {}}, created_at='2025-10-02T12:38:30.499251+00:00', parent_config={'configurable': {'thread_id': '2', 'checkpoint_ns': '', 'checkpoint_id': '1f09f8cb-2fea-6c07-8001-48f3dfcfb19a'}}, tasks=(), interrupts=()),\n",
       " StateSnapshot(values={'topic': 'pasta', 'joke': \"Why did the fusilli feel left out of the pasta party? Because it couldn't find a spiral partner to dance with!\"}, next=('generate_explanation',), config={'configurable': {'thread_id': '2', 'checkpoint_ns': '', 'checkpoint_id': '1f09f8cb-2fea-6c07-8001-48f3dfcfb19a'}}, metadata={'source': 'loop', 'step': 1, 'parents': {}}, created_at='2025-10-02T12:38:29.575751+00:00', parent_config={'configurable': {'thread_id': '2', 'checkpoint_ns': '', 'checkpoint_id': '1f09f8cb-278c-6131-8000-9315f6451c4a'}}, tasks=(PregelTask(id='133dbf06-22ff-2307-b0da-13f60cb15f16', name='generate_explanation', path=('__pregel_pull', 'generate_explanation'), error=None, interrupts=(), state=None, result={'explanation': \"This joke plays on the shape of fusilli pasta, which is spiral-shaped. In the context of a pasta party, where different types of pasta are coming together to have fun, the fusilli feels left out because it couldn't find another spiral-shaped pasta to dance with. The humor comes from the personification of the pasta and the idea of pasta dancing together at a party.\"}),), interrupts=()),\n",
       " StateSnapshot(values={'topic': 'pasta'}, next=('generate_joke',), config={'configurable': {'thread_id': '2', 'checkpoint_ns': '', 'checkpoint_id': '1f09f8cb-278c-6131-8000-9315f6451c4a'}}, metadata={'source': 'loop', 'step': 0, 'parents': {}}, created_at='2025-10-02T12:38:28.698126+00:00', parent_config={'configurable': {'thread_id': '2', 'checkpoint_ns': '', 'checkpoint_id': '1f09f8cb-2789-6832-bfff-3853689c3fea'}}, tasks=(PregelTask(id='99ddf181-877a-56eb-0d86-bd5873e19951', name='generate_joke', path=('__pregel_pull', 'generate_joke'), error=None, interrupts=(), state=None, result={'joke': \"Why did the fusilli feel left out of the pasta party? Because it couldn't find a spiral partner to dance with!\"}),), interrupts=()),\n",
       " StateSnapshot(values={}, next=('__start__',), config={'configurable': {'thread_id': '2', 'checkpoint_ns': '', 'checkpoint_id': '1f09f8cb-2789-6832-bfff-3853689c3fea'}}, metadata={'source': 'input', 'step': -1, 'parents': {}}, created_at='2025-10-02T12:38:28.697084+00:00', parent_config=None, tasks=(PregelTask(id='975006d6-7ef3-4e72-a6af-9dc0a19830ec', name='__start__', path=('__pregel_pull', '__start__'), error=None, interrupts=(), state=None, result={'topic': 'pasta'}),), interrupts=())]"
      ]
     },
     "execution_count": 15,
     "metadata": {},
     "output_type": "execute_result"
    }
   ],
   "source": [
    "list(workflow.get_state_history(config2))"
   ]
  },
  {
   "cell_type": "markdown",
   "id": "ab1b895e",
   "metadata": {},
   "source": [
    "#### Updating State"
   ]
  },
  {
   "cell_type": "code",
   "execution_count": 17,
   "id": "19378d86",
   "metadata": {},
   "outputs": [
    {
     "data": {
      "text/plain": [
       "{'configurable': {'thread_id': '2',\n",
       "  'checkpoint_ns': '',\n",
       "  'checkpoint_id': '1f09f8d0-1171-66df-8001-9a1c7f2404f9'}}"
      ]
     },
     "execution_count": 17,
     "metadata": {},
     "output_type": "execute_result"
    }
   ],
   "source": [
    "# we need to update the topic from state 2 from bottom because we want to generate a different joke\n",
    "workflow.update_state({\"configurable\": {\"thread_id\": \"2\", \"checkpoint_id\": \"1f09f8cb-278c-6131-8000-9315f6451c4a\", \"checkpoint_ns\": \"\"}}, {'topic':'samosa'})"
   ]
  },
  {
   "cell_type": "code",
   "execution_count": 18,
   "id": "7c486bff",
   "metadata": {},
   "outputs": [
    {
     "data": {
      "text/plain": [
       "[StateSnapshot(values={'topic': 'samosa'}, next=('generate_joke',), config={'configurable': {'thread_id': '2', 'checkpoint_ns': '', 'checkpoint_id': '1f09f8d0-1171-66df-8001-9a1c7f2404f9'}}, metadata={'source': 'update', 'step': 1, 'parents': {}}, created_at='2025-10-02T12:40:40.598068+00:00', parent_config={'configurable': {'thread_id': '2', 'checkpoint_ns': '', 'checkpoint_id': '1f09f8cb-278c-6131-8000-9315f6451c4a'}}, tasks=(PregelTask(id='c7e6642b-db2f-3872-41c9-0210782e3883', name='generate_joke', path=('__pregel_pull', 'generate_joke'), error=None, interrupts=(), state=None, result=None),), interrupts=()),\n",
       " StateSnapshot(values={'topic': 'samosa'}, next=('generate_joke',), config={'configurable': {'thread_id': '2', 'checkpoint_ns': '', 'checkpoint_id': '1f09f8cf-c853-6b9e-8000-f47d2800d9f4'}}, metadata={'source': 'update', 'step': 0, 'parents': {}}, created_at='2025-10-02T12:40:32.931308+00:00', parent_config={'configurable': {'thread_id': '2', 'checkpoint_ns': '', 'checkpoint_id': '1f09f8a9-d180-67ae-8000-da5779742139'}}, tasks=(PregelTask(id='50d17562-7b5e-e109-5797-fdb8d9096f80', name='generate_joke', path=('__pregel_pull', 'generate_joke'), error=None, interrupts=(), state=None, result=None),), interrupts=()),\n",
       " StateSnapshot(values={'topic': 'pasta', 'joke': \"Why did the pasta go to the party alone? Because it couldn't find a date sauce!\", 'explanation': 'This joke is a play on words. \"Date sauce\" sounds like \"mate sauce,\" which refers to a partner or date for the party. The pasta couldn\\'t find a \"date sauce\" because it couldn\\'t find a date to accompany it to the party. The humor comes from the pun on the word \"sauce\" and the clever wordplay.'}, next=(), config={'configurable': {'thread_id': '2', 'checkpoint_ns': '', 'checkpoint_id': '1f09f8cc-b67a-6af2-8002-8a5495f0185d'}}, metadata={'source': 'loop', 'step': 2, 'parents': {}}, created_at='2025-10-02T12:39:10.529166+00:00', parent_config={'configurable': {'thread_id': '2', 'checkpoint_ns': '', 'checkpoint_id': '1f09f8cc-abbc-684b-8001-ce3f0e3ba985'}}, tasks=(), interrupts=()),\n",
       " StateSnapshot(values={'topic': 'pasta', 'joke': \"Why did the pasta go to the party alone? Because it couldn't find a date sauce!\"}, next=('generate_explanation',), config={'configurable': {'thread_id': '2', 'checkpoint_ns': '', 'checkpoint_id': '1f09f8cc-abbc-684b-8001-ce3f0e3ba985'}}, metadata={'source': 'loop', 'step': 1, 'parents': {}}, created_at='2025-10-02T12:39:09.402717+00:00', parent_config={'configurable': {'thread_id': '2', 'checkpoint_ns': '', 'checkpoint_id': '1f09f8cb-278c-6131-8000-9315f6451c4a'}}, tasks=(PregelTask(id='4332db6c-c15f-3d3d-dc17-98c0c848fea5', name='generate_explanation', path=('__pregel_pull', 'generate_explanation'), error=None, interrupts=(), state=None, result={'explanation': 'This joke is a play on words. \"Date sauce\" sounds like \"mate sauce,\" which refers to a partner or date for the party. The pasta couldn\\'t find a \"date sauce\" because it couldn\\'t find a date to accompany it to the party. The humor comes from the pun on the word \"sauce\" and the clever wordplay.'}),), interrupts=()),\n",
       " StateSnapshot(values={'topic': 'pasta', 'joke': \"Why did the fusilli feel left out of the pasta party? Because it couldn't find a spiral partner to dance with!\", 'explanation': \"This joke plays on the shape of fusilli pasta, which is spiral-shaped. In the context of a pasta party, where different types of pasta are coming together to have fun, the fusilli feels left out because it couldn't find another spiral-shaped pasta to dance with. The humor comes from the personification of the pasta and the idea of pasta dancing together at a party.\"}, next=(), config={'configurable': {'thread_id': '2', 'checkpoint_ns': '', 'checkpoint_id': '1f09f8cb-38b9-6619-8002-019fc5e8d792'}}, metadata={'source': 'loop', 'step': 2, 'parents': {}}, created_at='2025-10-02T12:38:30.499251+00:00', parent_config={'configurable': {'thread_id': '2', 'checkpoint_ns': '', 'checkpoint_id': '1f09f8cb-2fea-6c07-8001-48f3dfcfb19a'}}, tasks=(), interrupts=()),\n",
       " StateSnapshot(values={'topic': 'pasta', 'joke': \"Why did the fusilli feel left out of the pasta party? Because it couldn't find a spiral partner to dance with!\"}, next=('generate_explanation',), config={'configurable': {'thread_id': '2', 'checkpoint_ns': '', 'checkpoint_id': '1f09f8cb-2fea-6c07-8001-48f3dfcfb19a'}}, metadata={'source': 'loop', 'step': 1, 'parents': {}}, created_at='2025-10-02T12:38:29.575751+00:00', parent_config={'configurable': {'thread_id': '2', 'checkpoint_ns': '', 'checkpoint_id': '1f09f8cb-278c-6131-8000-9315f6451c4a'}}, tasks=(PregelTask(id='133dbf06-22ff-2307-b0da-13f60cb15f16', name='generate_explanation', path=('__pregel_pull', 'generate_explanation'), error=None, interrupts=(), state=None, result={'explanation': \"This joke plays on the shape of fusilli pasta, which is spiral-shaped. In the context of a pasta party, where different types of pasta are coming together to have fun, the fusilli feels left out because it couldn't find another spiral-shaped pasta to dance with. The humor comes from the personification of the pasta and the idea of pasta dancing together at a party.\"}),), interrupts=()),\n",
       " StateSnapshot(values={'topic': 'pasta'}, next=('generate_joke',), config={'configurable': {'thread_id': '2', 'checkpoint_ns': '', 'checkpoint_id': '1f09f8cb-278c-6131-8000-9315f6451c4a'}}, metadata={'source': 'loop', 'step': 0, 'parents': {}}, created_at='2025-10-02T12:38:28.698126+00:00', parent_config={'configurable': {'thread_id': '2', 'checkpoint_ns': '', 'checkpoint_id': '1f09f8cb-2789-6832-bfff-3853689c3fea'}}, tasks=(PregelTask(id='99ddf181-877a-56eb-0d86-bd5873e19951', name='generate_joke', path=('__pregel_pull', 'generate_joke'), error=None, interrupts=(), state=None, result={'joke': \"Why did the fusilli feel left out of the pasta party? Because it couldn't find a spiral partner to dance with!\"}),), interrupts=()),\n",
       " StateSnapshot(values={}, next=('__start__',), config={'configurable': {'thread_id': '2', 'checkpoint_ns': '', 'checkpoint_id': '1f09f8cb-2789-6832-bfff-3853689c3fea'}}, metadata={'source': 'input', 'step': -1, 'parents': {}}, created_at='2025-10-02T12:38:28.697084+00:00', parent_config=None, tasks=(PregelTask(id='975006d6-7ef3-4e72-a6af-9dc0a19830ec', name='__start__', path=('__pregel_pull', '__start__'), error=None, interrupts=(), state=None, result={'topic': 'pasta'}),), interrupts=())]"
      ]
     },
     "execution_count": 18,
     "metadata": {},
     "output_type": "execute_result"
    }
   ],
   "source": [
    "list(workflow.get_state_history(config2))"
   ]
  },
  {
   "cell_type": "code",
   "execution_count": 19,
   "id": "58f63a80",
   "metadata": {},
   "outputs": [
    {
     "data": {
      "text/plain": [
       "{'topic': 'samosa',\n",
       " 'joke': 'Why did the samosa go to the party? Because it wanted to be a party appetizer!',\n",
       " 'explanation': 'This joke plays on the fact that samosas are a popular party appetizer often served at events and gatherings. The punchline of the joke is a play on words, as the samosa is going to the party not as a guest, but rather as an appetizer to be served at the party. The joke is light-hearted and humorous because it personifies the samosa as having its own desire to be a part of the party experience.'}"
      ]
     },
     "execution_count": 19,
     "metadata": {},
     "output_type": "execute_result"
    }
   ],
   "source": [
    "# make sure copy checkpoint_id from above cell, because we want to invoke from last checkpoint (Samosa joke)\n",
    "workflow.invoke(None, {\"configurable\": {\"thread_id\": \"2\", \"checkpoint_id\": \"1f09f8d0-1171-66df-8001-9a1c7f2404f9\"}})"
   ]
  },
  {
   "cell_type": "code",
   "execution_count": 20,
   "id": "db645da9",
   "metadata": {},
   "outputs": [
    {
     "data": {
      "text/plain": [
       "[StateSnapshot(values={'topic': 'samosa', 'joke': 'Why did the samosa go to the party? Because it wanted to be a party appetizer!', 'explanation': 'This joke plays on the fact that samosas are a popular party appetizer often served at events and gatherings. The punchline of the joke is a play on words, as the samosa is going to the party not as a guest, but rather as an appetizer to be served at the party. The joke is light-hearted and humorous because it personifies the samosa as having its own desire to be a part of the party experience.'}, next=(), config={'configurable': {'thread_id': '2', 'checkpoint_ns': '', 'checkpoint_id': '1f09f8d0-fcfb-6be6-8003-156d954569dc'}}, metadata={'source': 'loop', 'step': 3, 'parents': {}}, created_at='2025-10-02T12:41:05.296250+00:00', parent_config={'configurable': {'thread_id': '2', 'checkpoint_ns': '', 'checkpoint_id': '1f09f8d0-f14e-69f1-8002-d17770f3f8b6'}}, tasks=(), interrupts=()),\n",
       " StateSnapshot(values={'topic': 'samosa', 'joke': 'Why did the samosa go to the party? Because it wanted to be a party appetizer!'}, next=('generate_explanation',), config={'configurable': {'thread_id': '2', 'checkpoint_ns': '', 'checkpoint_id': '1f09f8d0-f14e-69f1-8002-d17770f3f8b6'}}, metadata={'source': 'loop', 'step': 2, 'parents': {}}, created_at='2025-10-02T12:41:04.071904+00:00', parent_config={'configurable': {'thread_id': '2', 'checkpoint_ns': '', 'checkpoint_id': '1f09f8d0-1171-66df-8001-9a1c7f2404f9'}}, tasks=(PregelTask(id='8213ccda-8411-52a8-e940-716a0cec4813', name='generate_explanation', path=('__pregel_pull', 'generate_explanation'), error=None, interrupts=(), state=None, result={'explanation': 'This joke plays on the fact that samosas are a popular party appetizer often served at events and gatherings. The punchline of the joke is a play on words, as the samosa is going to the party not as a guest, but rather as an appetizer to be served at the party. The joke is light-hearted and humorous because it personifies the samosa as having its own desire to be a part of the party experience.'}),), interrupts=()),\n",
       " StateSnapshot(values={'topic': 'samosa'}, next=('generate_joke',), config={'configurable': {'thread_id': '2', 'checkpoint_ns': '', 'checkpoint_id': '1f09f8d0-1171-66df-8001-9a1c7f2404f9'}}, metadata={'source': 'update', 'step': 1, 'parents': {}}, created_at='2025-10-02T12:40:40.598068+00:00', parent_config={'configurable': {'thread_id': '2', 'checkpoint_ns': '', 'checkpoint_id': '1f09f8cb-278c-6131-8000-9315f6451c4a'}}, tasks=(PregelTask(id='c7e6642b-db2f-3872-41c9-0210782e3883', name='generate_joke', path=('__pregel_pull', 'generate_joke'), error=None, interrupts=(), state=None, result={'joke': 'Why did the samosa go to the party? Because it wanted to be a party appetizer!'}),), interrupts=()),\n",
       " StateSnapshot(values={'topic': 'samosa'}, next=('generate_joke',), config={'configurable': {'thread_id': '2', 'checkpoint_ns': '', 'checkpoint_id': '1f09f8cf-c853-6b9e-8000-f47d2800d9f4'}}, metadata={'source': 'update', 'step': 0, 'parents': {}}, created_at='2025-10-02T12:40:32.931308+00:00', parent_config={'configurable': {'thread_id': '2', 'checkpoint_ns': '', 'checkpoint_id': '1f09f8a9-d180-67ae-8000-da5779742139'}}, tasks=(PregelTask(id='50d17562-7b5e-e109-5797-fdb8d9096f80', name='generate_joke', path=('__pregel_pull', 'generate_joke'), error=None, interrupts=(), state=None, result=None),), interrupts=()),\n",
       " StateSnapshot(values={'topic': 'pasta', 'joke': \"Why did the pasta go to the party alone? Because it couldn't find a date sauce!\", 'explanation': 'This joke is a play on words. \"Date sauce\" sounds like \"mate sauce,\" which refers to a partner or date for the party. The pasta couldn\\'t find a \"date sauce\" because it couldn\\'t find a date to accompany it to the party. The humor comes from the pun on the word \"sauce\" and the clever wordplay.'}, next=(), config={'configurable': {'thread_id': '2', 'checkpoint_ns': '', 'checkpoint_id': '1f09f8cc-b67a-6af2-8002-8a5495f0185d'}}, metadata={'source': 'loop', 'step': 2, 'parents': {}}, created_at='2025-10-02T12:39:10.529166+00:00', parent_config={'configurable': {'thread_id': '2', 'checkpoint_ns': '', 'checkpoint_id': '1f09f8cc-abbc-684b-8001-ce3f0e3ba985'}}, tasks=(), interrupts=()),\n",
       " StateSnapshot(values={'topic': 'pasta', 'joke': \"Why did the pasta go to the party alone? Because it couldn't find a date sauce!\"}, next=('generate_explanation',), config={'configurable': {'thread_id': '2', 'checkpoint_ns': '', 'checkpoint_id': '1f09f8cc-abbc-684b-8001-ce3f0e3ba985'}}, metadata={'source': 'loop', 'step': 1, 'parents': {}}, created_at='2025-10-02T12:39:09.402717+00:00', parent_config={'configurable': {'thread_id': '2', 'checkpoint_ns': '', 'checkpoint_id': '1f09f8cb-278c-6131-8000-9315f6451c4a'}}, tasks=(PregelTask(id='4332db6c-c15f-3d3d-dc17-98c0c848fea5', name='generate_explanation', path=('__pregel_pull', 'generate_explanation'), error=None, interrupts=(), state=None, result={'explanation': 'This joke is a play on words. \"Date sauce\" sounds like \"mate sauce,\" which refers to a partner or date for the party. The pasta couldn\\'t find a \"date sauce\" because it couldn\\'t find a date to accompany it to the party. The humor comes from the pun on the word \"sauce\" and the clever wordplay.'}),), interrupts=()),\n",
       " StateSnapshot(values={'topic': 'pasta', 'joke': \"Why did the fusilli feel left out of the pasta party? Because it couldn't find a spiral partner to dance with!\", 'explanation': \"This joke plays on the shape of fusilli pasta, which is spiral-shaped. In the context of a pasta party, where different types of pasta are coming together to have fun, the fusilli feels left out because it couldn't find another spiral-shaped pasta to dance with. The humor comes from the personification of the pasta and the idea of pasta dancing together at a party.\"}, next=(), config={'configurable': {'thread_id': '2', 'checkpoint_ns': '', 'checkpoint_id': '1f09f8cb-38b9-6619-8002-019fc5e8d792'}}, metadata={'source': 'loop', 'step': 2, 'parents': {}}, created_at='2025-10-02T12:38:30.499251+00:00', parent_config={'configurable': {'thread_id': '2', 'checkpoint_ns': '', 'checkpoint_id': '1f09f8cb-2fea-6c07-8001-48f3dfcfb19a'}}, tasks=(), interrupts=()),\n",
       " StateSnapshot(values={'topic': 'pasta', 'joke': \"Why did the fusilli feel left out of the pasta party? Because it couldn't find a spiral partner to dance with!\"}, next=('generate_explanation',), config={'configurable': {'thread_id': '2', 'checkpoint_ns': '', 'checkpoint_id': '1f09f8cb-2fea-6c07-8001-48f3dfcfb19a'}}, metadata={'source': 'loop', 'step': 1, 'parents': {}}, created_at='2025-10-02T12:38:29.575751+00:00', parent_config={'configurable': {'thread_id': '2', 'checkpoint_ns': '', 'checkpoint_id': '1f09f8cb-278c-6131-8000-9315f6451c4a'}}, tasks=(PregelTask(id='133dbf06-22ff-2307-b0da-13f60cb15f16', name='generate_explanation', path=('__pregel_pull', 'generate_explanation'), error=None, interrupts=(), state=None, result={'explanation': \"This joke plays on the shape of fusilli pasta, which is spiral-shaped. In the context of a pasta party, where different types of pasta are coming together to have fun, the fusilli feels left out because it couldn't find another spiral-shaped pasta to dance with. The humor comes from the personification of the pasta and the idea of pasta dancing together at a party.\"}),), interrupts=()),\n",
       " StateSnapshot(values={'topic': 'pasta'}, next=('generate_joke',), config={'configurable': {'thread_id': '2', 'checkpoint_ns': '', 'checkpoint_id': '1f09f8cb-278c-6131-8000-9315f6451c4a'}}, metadata={'source': 'loop', 'step': 0, 'parents': {}}, created_at='2025-10-02T12:38:28.698126+00:00', parent_config={'configurable': {'thread_id': '2', 'checkpoint_ns': '', 'checkpoint_id': '1f09f8cb-2789-6832-bfff-3853689c3fea'}}, tasks=(PregelTask(id='99ddf181-877a-56eb-0d86-bd5873e19951', name='generate_joke', path=('__pregel_pull', 'generate_joke'), error=None, interrupts=(), state=None, result={'joke': \"Why did the fusilli feel left out of the pasta party? Because it couldn't find a spiral partner to dance with!\"}),), interrupts=()),\n",
       " StateSnapshot(values={}, next=('__start__',), config={'configurable': {'thread_id': '2', 'checkpoint_ns': '', 'checkpoint_id': '1f09f8cb-2789-6832-bfff-3853689c3fea'}}, metadata={'source': 'input', 'step': -1, 'parents': {}}, created_at='2025-10-02T12:38:28.697084+00:00', parent_config=None, tasks=(PregelTask(id='975006d6-7ef3-4e72-a6af-9dc0a19830ec', name='__start__', path=('__pregel_pull', '__start__'), error=None, interrupts=(), state=None, result={'topic': 'pasta'}),), interrupts=())]"
      ]
     },
     "execution_count": 20,
     "metadata": {},
     "output_type": "execute_result"
    }
   ],
   "source": [
    "list(workflow.get_state_history(config2))"
   ]
  },
  {
   "cell_type": "markdown",
   "id": "d8435127",
   "metadata": {},
   "source": [
    "### Fault Tolerance\n",
    "\n",
    "In this section, interrupt keyboard at step2 and then run the next cell by passing None. It will resume from last step."
   ]
  },
  {
   "cell_type": "code",
   "execution_count": 21,
   "id": "b7aacf7e",
   "metadata": {},
   "outputs": [],
   "source": [
    "from langgraph.graph import StateGraph, END\n",
    "from langgraph.checkpoint.memory import InMemorySaver\n",
    "from typing import TypedDict\n",
    "import time"
   ]
  },
  {
   "cell_type": "code",
   "execution_count": 22,
   "id": "095de12d",
   "metadata": {},
   "outputs": [],
   "source": [
    "# 1. Define the state\n",
    "class CrashState(TypedDict):\n",
    "    input: str\n",
    "    step1: str\n",
    "    step2: str"
   ]
  },
  {
   "cell_type": "code",
   "execution_count": 23,
   "id": "13365a36",
   "metadata": {},
   "outputs": [],
   "source": [
    "# 2. Define nodes\n",
    "def step_1(state: CrashState) -> CrashState:\n",
    "    print(\"Step 1 executed\")\n",
    "    return {\"step1\": \"done\", \"input\": state[\"input\"]}\n",
    "\n",
    "def step_2(state: CrashState) -> CrashState:\n",
    "    print(\"Step 2 hanging... now manually interrupt from the notebook toolbar (STOP button)\")\n",
    "    time.sleep(10)\n",
    "    return {\"step2\": \"done\"}\n",
    "\n",
    "def step_3(state: CrashState) -> CrashState:\n",
    "    print(\"Step 3 executed\")\n",
    "    return {\"done\": True}"
   ]
  },
  {
   "cell_type": "code",
   "execution_count": 24,
   "id": "2838a3a1",
   "metadata": {},
   "outputs": [],
   "source": [
    "# 3. Build the graph\n",
    "builder = StateGraph(CrashState)\n",
    "builder.add_node(\"step_1\", step_1)\n",
    "builder.add_node(\"step_2\", step_2)\n",
    "builder.add_node(\"step_3\", step_3)\n",
    "\n",
    "builder.set_entry_point(\"step_1\")\n",
    "builder.add_edge(\"step_1\", \"step_2\")\n",
    "builder.add_edge(\"step_2\", \"step_3\")\n",
    "builder.add_edge(\"step_3\", END)\n",
    "\n",
    "checkpointer = InMemorySaver()\n",
    "graph = builder.compile(checkpointer=checkpointer)"
   ]
  },
  {
   "cell_type": "code",
   "execution_count": 25,
   "id": "17c012e7",
   "metadata": {},
   "outputs": [
    {
     "name": "stdout",
     "output_type": "stream",
     "text": [
      "Running graph: Please manually interrupt during Step 2...\n",
      "Step 1 executed\n",
      "Step 2 hanging... now manually interrupt from the notebook toolbar (STOP button)\n",
      "Kernel manually interrupted (crash simulated).\n"
     ]
    }
   ],
   "source": [
    "try:\n",
    "    print(\"Running graph: Please manually interrupt during Step 2...\")\n",
    "    graph.invoke({\"input\": \"start\"}, config={\"configurable\": {\"thread_id\": 'thread-1'}})\n",
    "except KeyboardInterrupt:\n",
    "    print(\"Kernel manually interrupted (crash simulated).\")"
   ]
  },
  {
   "cell_type": "code",
   "execution_count": 26,
   "id": "16137a5c",
   "metadata": {},
   "outputs": [
    {
     "data": {
      "text/plain": [
       "StateSnapshot(values={'input': 'start', 'step1': 'done'}, next=('step_2',), config={'configurable': {'thread_id': 'thread-1', 'checkpoint_ns': '', 'checkpoint_id': '1f09f8d1-63d6-6bb9-8001-22e6e05d4909'}}, metadata={'source': 'loop', 'step': 1, 'parents': {}}, created_at='2025-10-02T12:41:16.081433+00:00', parent_config={'configurable': {'thread_id': 'thread-1', 'checkpoint_ns': '', 'checkpoint_id': '1f09f8d1-63d3-6c1e-8000-5737d93d63fd'}}, tasks=(PregelTask(id='7584f88a-5f53-176c-778d-eb8982c37ec5', name='step_2', path=('__pregel_pull', 'step_2'), error=None, interrupts=(), state=None, result=None),), interrupts=())"
      ]
     },
     "execution_count": 26,
     "metadata": {},
     "output_type": "execute_result"
    }
   ],
   "source": [
    "graph.get_state({\"configurable\": {\"thread_id\": \"thread-1\"}})"
   ]
  },
  {
   "cell_type": "code",
   "execution_count": 27,
   "id": "95df3f98",
   "metadata": {},
   "outputs": [
    {
     "name": "stdout",
     "output_type": "stream",
     "text": [
      "Re-running the graph to demonstrate fault tolerance...\n",
      "Step 2 hanging... now manually interrupt from the notebook toolbar (STOP button)\n",
      "Step 3 executed\n",
      "Final State: {'input': 'start', 'step1': 'done', 'step2': 'done'}\n"
     ]
    }
   ],
   "source": [
    "# Re-run to show fault-tolerant resume\n",
    "# pass None as input to resume from last checkpoint\n",
    "print(\"Re-running the graph to demonstrate fault tolerance...\")\n",
    "final_state = graph.invoke(None, config={\"configurable\": {\"thread_id\": 'thread-1'}})\n",
    "print(\"Final State:\", final_state)"
   ]
  },
  {
   "cell_type": "code",
   "execution_count": 28,
   "id": "4f61ccbd",
   "metadata": {},
   "outputs": [
    {
     "data": {
      "text/plain": [
       "[StateSnapshot(values={'input': 'start', 'step1': 'done', 'step2': 'done'}, next=(), config={'configurable': {'thread_id': 'thread-1', 'checkpoint_ns': '', 'checkpoint_id': '1f09f8d2-410c-69cb-8003-cbeedb61b383'}}, metadata={'source': 'loop', 'step': 3, 'parents': {}}, created_at='2025-10-02T12:41:39.277028+00:00', parent_config={'configurable': {'thread_id': 'thread-1', 'checkpoint_ns': '', 'checkpoint_id': '1f09f8d2-4109-6609-8002-b8556dc6e681'}}, tasks=(), interrupts=()),\n",
       " StateSnapshot(values={'input': 'start', 'step1': 'done', 'step2': 'done'}, next=('step_3',), config={'configurable': {'thread_id': 'thread-1', 'checkpoint_ns': '', 'checkpoint_id': '1f09f8d2-4109-6609-8002-b8556dc6e681'}}, metadata={'source': 'loop', 'step': 2, 'parents': {}}, created_at='2025-10-02T12:41:39.275695+00:00', parent_config={'configurable': {'thread_id': 'thread-1', 'checkpoint_ns': '', 'checkpoint_id': '1f09f8d1-63d6-6bb9-8001-22e6e05d4909'}}, tasks=(PregelTask(id='9d7f585d-12a6-8a36-5b12-0063f60c0277', name='step_3', path=('__pregel_pull', 'step_3'), error=None, interrupts=(), state=None, result={}),), interrupts=()),\n",
       " StateSnapshot(values={'input': 'start', 'step1': 'done'}, next=('step_2',), config={'configurable': {'thread_id': 'thread-1', 'checkpoint_ns': '', 'checkpoint_id': '1f09f8d1-63d6-6bb9-8001-22e6e05d4909'}}, metadata={'source': 'loop', 'step': 1, 'parents': {}}, created_at='2025-10-02T12:41:16.081433+00:00', parent_config={'configurable': {'thread_id': 'thread-1', 'checkpoint_ns': '', 'checkpoint_id': '1f09f8d1-63d3-6c1e-8000-5737d93d63fd'}}, tasks=(PregelTask(id='7584f88a-5f53-176c-778d-eb8982c37ec5', name='step_2', path=('__pregel_pull', 'step_2'), error=None, interrupts=(), state=None, result={'step2': 'done'}),), interrupts=()),\n",
       " StateSnapshot(values={'input': 'start'}, next=('step_1',), config={'configurable': {'thread_id': 'thread-1', 'checkpoint_ns': '', 'checkpoint_id': '1f09f8d1-63d3-6c1e-8000-5737d93d63fd'}}, metadata={'source': 'loop', 'step': 0, 'parents': {}}, created_at='2025-10-02T12:41:16.080221+00:00', parent_config={'configurable': {'thread_id': 'thread-1', 'checkpoint_ns': '', 'checkpoint_id': '1f09f8d1-63d0-6a7f-bfff-ff89a8a002ad'}}, tasks=(PregelTask(id='4936a1ab-6f18-6d10-ba0b-c539d1dad9dc', name='step_1', path=('__pregel_pull', 'step_1'), error=None, interrupts=(), state=None, result={'step1': 'done', 'input': 'start'}),), interrupts=()),\n",
       " StateSnapshot(values={}, next=('__start__',), config={'configurable': {'thread_id': 'thread-1', 'checkpoint_ns': '', 'checkpoint_id': '1f09f8d1-63d0-6a7f-bfff-ff89a8a002ad'}}, metadata={'source': 'input', 'step': -1, 'parents': {}}, created_at='2025-10-02T12:41:16.078952+00:00', parent_config=None, tasks=(PregelTask(id='f47c6a69-c0d2-e7f7-518f-e4f1824eed2b', name='__start__', path=('__pregel_pull', '__start__'), error=None, interrupts=(), state=None, result={'input': 'start'}),), interrupts=())]"
      ]
     },
     "execution_count": 28,
     "metadata": {},
     "output_type": "execute_result"
    }
   ],
   "source": [
    "list(graph.get_state_history({\"configurable\": {\"thread_id\": 'thread-1'}}))"
   ]
  }
 ],
 "metadata": {
  "kernelspec": {
   "display_name": "venv",
   "language": "python",
   "name": "python3"
  },
  "language_info": {
   "codemirror_mode": {
    "name": "ipython",
    "version": 3
   },
   "file_extension": ".py",
   "mimetype": "text/x-python",
   "name": "python",
   "nbconvert_exporter": "python",
   "pygments_lexer": "ipython3",
   "version": "3.13.5"
  }
 },
 "nbformat": 4,
 "nbformat_minor": 5
}
