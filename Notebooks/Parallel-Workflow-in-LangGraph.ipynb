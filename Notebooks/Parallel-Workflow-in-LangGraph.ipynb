{
 "cells": [
  {
   "cell_type": "markdown",
   "id": "a7a90200",
   "metadata": {},
   "source": [
    "This project demonstrates how to build and execute parallel workflows using LangGraph. It showcases concurrent task execution, state management, and orchestration, highlighting how LangGraph enables efficient handling of multiple processes simultaneously."
   ]
  },
  {
   "cell_type": "code",
   "execution_count": 1,
   "id": "6adeeb78",
   "metadata": {},
   "outputs": [
    {
     "data": {
      "text/plain": [
       "True"
      ]
     },
     "execution_count": 1,
     "metadata": {},
     "output_type": "execute_result"
    }
   ],
   "source": [
    "from langgraph.graph import StateGraph, START, END\n",
    "from langchain_openai import ChatOpenAI\n",
    "from dotenv import load_dotenv\n",
    "\n",
    "# Annotated: Annotated is a special typing construct that allows you to add metadata to types.\n",
    "from typing import TypedDict, Annotated\n",
    "from pydantic import BaseModel, Field\n",
    "import operator\n",
    "\n",
    "load_dotenv()"
   ]
  },
  {
   "cell_type": "code",
   "execution_count": 2,
   "id": "13a12851",
   "metadata": {},
   "outputs": [],
   "source": [
    "# define model, gpt-4o-mini as it supports Pydantic, strcutured output\n",
    "model = ChatOpenAI(model='gpt-4o-mini')\n",
    "\n",
    "# Define the schema for the evaluation output\n",
    "class EvaluationSchema(BaseModel):\n",
    "\n",
    "    # providing description helps LLM understand the context better\n",
    "    feedback: str = Field(description='Detailed feedbackfor the essay')\n",
    "\n",
    "    # greater than or equal to 0, less than or equal to 10\n",
    "    score: int = Field(description='Score out of 10', ge=0, le=10)\n",
    "\n",
    "structured_model = model.with_structured_output(EvaluationSchema)"
   ]
  },
  {
   "cell_type": "markdown",
   "id": "b846b77e",
   "metadata": {},
   "source": [
    "#### Example of structured output"
   ]
  },
  {
   "cell_type": "code",
   "execution_count": 3,
   "id": "7e00c908",
   "metadata": {},
   "outputs": [],
   "source": [
    "essay = \"\"\"India in the Age of AI\n",
    "As the world enters a transformative era defined by artificial intelligence (AI), India stands at a critical juncture — one where it can either emerge as a global leader in AI innovation or risk falling behind in the technology race. The age of AI brings with it immense promise as well as unprecedented challenges, and how India navigates this landscape will shape its socio-economic and geopolitical future.\n",
    "\n",
    "India's strengths in the AI domain are rooted in its vast pool of skilled engineers, a thriving IT industry, and a growing startup ecosystem. With over 5 million STEM graduates annually and a burgeoning base of AI researchers, India possesses the intellectual capital required to build cutting-edge AI systems. Institutions like IITs, IIITs, and IISc have begun fostering AI research, while private players such as TCS, Infosys, and Wipro are integrating AI into their global services. In 2020, the government launched the National AI Strategy (AI for All) with a focus on inclusive growth, aiming to leverage AI in healthcare, agriculture, education, and smart mobility.\n",
    "\n",
    "One of the most promising applications of AI in India lies in agriculture, where predictive analytics can guide farmers on optimal sowing times, weather forecasts, and pest control. In healthcare, AI-powered diagnostics can help address India’s doctor-patient ratio crisis, particularly in rural areas. Educational platforms are increasingly using AI to personalize learning paths, while smart governance tools are helping improve public service delivery and fraud detection.\n",
    "\n",
    "However, the path to AI-led growth is riddled with challenges. Chief among them is the digital divide. While metropolitan cities may embrace AI-driven solutions, rural India continues to struggle with basic internet access and digital literacy. The risk of job displacement due to automation also looms large, especially for low-skilled workers. Without effective skilling and re-skilling programs, AI could exacerbate existing socio-economic inequalities.\n",
    "\n",
    "Another pressing concern is data privacy and ethics. As AI systems rely heavily on vast datasets, ensuring that personal data is used transparently and responsibly becomes vital. India is still shaping its data protection laws, and in the absence of a strong regulatory framework, AI systems may risk misuse or bias.\n",
    "\n",
    "To harness AI responsibly, India must adopt a multi-stakeholder approach involving the government, academia, industry, and civil society. Policies should promote open datasets, encourage responsible innovation, and ensure ethical AI practices. There is also a need for international collaboration, particularly with countries leading in AI research, to gain strategic advantage and ensure interoperability in global systems.\n",
    "\n",
    "India’s demographic dividend, when paired with responsible AI adoption, can unlock massive economic growth, improve governance, and uplift marginalized communities. But this vision will only materialize if AI is seen not merely as a tool for automation, but as an enabler of human-centered development.\n",
    "\n",
    "In conclusion, India in the age of AI is a story in the making — one of opportunity, responsibility, and transformation. The decisions we make today will not just determine India’s AI trajectory, but also its future as an inclusive, equitable, and innovation-driven society.\"\"\""
   ]
  },
  {
   "cell_type": "code",
   "execution_count": 4,
   "id": "81a54345",
   "metadata": {},
   "outputs": [
    {
     "data": {
      "text/plain": [
       "EvaluationSchema(feedback='The essay provides a well-structured and insightful analysis of India\\'s position regarding artificial intelligence. The language used is formal and appropriate for an academic or professional audience, with a clear progression of ideas from strengths to challenges. The use of examples and statistics enhances the credibility of the arguments. However, there are some areas for improvement:\\n1. **Clarity and Conciseness**: While the essay covers a lot of ground, there are sections where sentences could be more concise to improve readability. For example, rather than stating \"AI could exacerbate existing socio-economic inequalities,\" simplifying this to \"AI may increase socio-economic inequalities\" could enhance clarity.\\n2. **Transitions**: Some transitions between paragraphs could be smoother to help guide the reader through the various sections of the argument. For instance, while the shift from strengths to challenges is necessary, a transitional sentence could help to bridge these concepts.\\n3. **Depth of Discussion**: Certain points, such as the ethical implications of AI and data privacy, could be expanded further with additional examples or references to global practices that India could adopt.\\n4. **Conclusion**: The conclusion effectively encapsulates the essay\\'s arguments but could benefit from a stronger statement regarding the urgency of the issues raised.', score=8)"
      ]
     },
     "execution_count": 4,
     "metadata": {},
     "output_type": "execute_result"
    }
   ],
   "source": [
    "# output is EvaluationSchema which contains feedback and score as keys\n",
    "\n",
    "prompt = f'Evaluate the language quality of the following essay and provide a feedback and assign a score out of 10 \\n {essay}'\n",
    "structured_model.invoke(prompt)"
   ]
  },
  {
   "cell_type": "markdown",
   "id": "b9bb6ac8",
   "metadata": {},
   "source": [
    "#### Let's create Graph"
   ]
  },
  {
   "cell_type": "code",
   "execution_count": 5,
   "id": "ce0010cd",
   "metadata": {},
   "outputs": [],
   "source": [
    "class EssayEvaluator(TypedDict):\n",
    "    essay: str\n",
    "    language_feedback: str\n",
    "    analysis_feedback: str\n",
    "    clarity_feedback: str\n",
    "    overall_feedback: str\n",
    "\n",
    "    # Annotated[base_type, metadata1, metadata2, ...]\n",
    "    # individual_scores is a list of integers, with additional metadata \n",
    "    # saying it’s associated with the operator.add function.\n",
    "    individual_scores: Annotated[list[int], operator.add]\n",
    "    avg_score: float"
   ]
  },
  {
   "cell_type": "code",
   "execution_count": null,
   "id": "021f54c3",
   "metadata": {},
   "outputs": [],
   "source": [
    "# node 1 to evaluate language\n",
    "# partial updates, we don't need to return full state, we can partial update\n",
    "# and we need to return as dictionary instead of full state object\n",
    "# for parallel nodes, we don't need to update all State vars everytime\n",
    "\n",
    "def evaluate_language(state: EssayEvaluator):\n",
    "    prompt = f'Evaluate the language quality of the following essay and provide a feedback and assign a score out of 10 \\n {state[\"essay\"]}'\n",
    "    output = structured_model.invoke(prompt)\n",
    "\n",
    "    return {'language_feedback': output.feedback, 'individual_scores': [output.score]}\n",
    "\n",
    "# node 2 to evaluate analysis\n",
    "def evaluate_analysis(state: EssayEvaluator):\n",
    "\n",
    "    prompt = f'Evaluate the depth of analysis of the following essay and provide a feedback and assign a score out of 10 \\n {state[\"essay\"]}'\n",
    "    output = structured_model.invoke(prompt)\n",
    "\n",
    "    return {'analysis_feedback': output.feedback, 'individual_scores': [output.score]}\n",
    "\n",
    "# node 3 to evaluate clarity of thought\n",
    "def evaluate_thought(state: EssayEvaluator):\n",
    "\n",
    "    prompt = f'Evaluate the clarity of thought of the following essay and provide a feedback and assign a score out of 10 \\n {state[\"essay\"]}'\n",
    "    output = structured_model.invoke(prompt)\n",
    "\n",
    "    return {'clarity_feedback': output.feedback, 'individual_scores': [output.score]}\n",
    "\n",
    "# final node to provide overall feedback and avg score\n",
    "def final_evaluation(state: EssayEvaluator):\n",
    "\n",
    "    # summary feedback\n",
    "    prompt = f'Based on the following feedbacks create a summarized feedback \\n language feedback - {state[\"language_feedback\"]} \\n depth of analysis feedback - {state[\"analysis_feedback\"]} \\n clarity of thought feedback - {state[\"clarity_feedback\"]}'\n",
    "\n",
    "    # note, here using model instead of structured_model as output is simple string\n",
    "    overall_feedback = model.invoke(prompt).content\n",
    "\n",
    "    # avg calculate\n",
    "    avg_score = sum(state['individual_scores'])/len(state['individual_scores'])\n",
    "\n",
    "    return {'overall_feedback': overall_feedback, 'avg_score': avg_score}\n",
    "    "
   ]
  },
  {
   "cell_type": "code",
   "execution_count": 7,
   "id": "b288b925",
   "metadata": {},
   "outputs": [],
   "source": [
    "# let's make Graph\n",
    "graph = StateGraph(EssayEvaluator)\n",
    "\n",
    "# nodes\n",
    "graph.add_node('evaluate_language', evaluate_language)\n",
    "graph.add_node('evaluate_analysis', evaluate_analysis)\n",
    "graph.add_node('evaluate_thought', evaluate_thought)\n",
    "graph.add_node('final_evaluation', final_evaluation)\n",
    "\n",
    "# edges\n",
    "graph.add_edge(START, 'evaluate_language')\n",
    "graph.add_edge(START, 'evaluate_analysis')\n",
    "graph.add_edge(START, 'evaluate_thought')\n",
    "\n",
    "graph.add_edge('evaluate_language', 'final_evaluation')\n",
    "graph.add_edge('evaluate_analysis', 'final_evaluation')\n",
    "graph.add_edge('evaluate_thought', 'final_evaluation')\n",
    "\n",
    "graph.add_edge('final_evaluation', END)\n",
    "\n",
    "# compile\n",
    "workflow = graph.compile()"
   ]
  },
  {
   "cell_type": "code",
   "execution_count": 14,
   "id": "b778ae72",
   "metadata": {},
   "outputs": [],
   "source": [
    "# visualize\n",
    "try:\n",
    "    from IPython.display import Image\n",
    "    Image(workflow.get_graph().draw_mermaid_png())\n",
    "except:\n",
    "    pass"
   ]
  },
  {
   "cell_type": "code",
   "execution_count": 15,
   "id": "c6cff32a",
   "metadata": {},
   "outputs": [
    {
     "name": "stdout",
     "output_type": "stream",
     "text": [
      "---\n",
      "config:\n",
      "  flowchart:\n",
      "    curve: linear\n",
      "---\n",
      "graph TD;\n",
      "\t__start__([<p>__start__</p>]):::first\n",
      "\tevaluate_language(evaluate_language)\n",
      "\tevaluate_analysis(evaluate_analysis)\n",
      "\tevaluate_thought(evaluate_thought)\n",
      "\tfinal_evaluation(final_evaluation)\n",
      "\t__end__([<p>__end__</p>]):::last\n",
      "\t__start__ --> evaluate_analysis;\n",
      "\t__start__ --> evaluate_language;\n",
      "\t__start__ --> evaluate_thought;\n",
      "\tevaluate_analysis --> final_evaluation;\n",
      "\tevaluate_language --> final_evaluation;\n",
      "\tevaluate_thought --> final_evaluation;\n",
      "\tfinal_evaluation --> __end__;\n",
      "\tclassDef default fill:#f2f0ff,line-height:1.2\n",
      "\tclassDef first fill-opacity:0\n",
      "\tclassDef last fill:#bfb6fc\n",
      "\n"
     ]
    }
   ],
   "source": [
    "# we can visualize the graph using mermaid syntax\n",
    "# https://mermaid.live/\n",
    "# sometime due to network issues, image may not render, in that case use mermaid_code below to visualize\n",
    "\n",
    "mermaid_code = workflow.get_graph().draw_mermaid()\n",
    "print(mermaid_code)"
   ]
  },
  {
   "cell_type": "code",
   "execution_count": 9,
   "id": "a4c8cfc6",
   "metadata": {},
   "outputs": [],
   "source": [
    "# initial state\n",
    "intial_state = {\n",
    "    'essay': essay\n",
    "}\n",
    "\n",
    "# run graph\n",
    "final_state = workflow.invoke(intial_state)"
   ]
  },
  {
   "cell_type": "code",
   "execution_count": 10,
   "id": "2cb7b4d7",
   "metadata": {},
   "outputs": [
    {
     "data": {
      "text/plain": [
       "{'essay': \"India in the Age of AI\\nAs the world enters a transformative era defined by artificial intelligence (AI), India stands at a critical juncture — one where it can either emerge as a global leader in AI innovation or risk falling behind in the technology race. The age of AI brings with it immense promise as well as unprecedented challenges, and how India navigates this landscape will shape its socio-economic and geopolitical future.\\n\\nIndia's strengths in the AI domain are rooted in its vast pool of skilled engineers, a thriving IT industry, and a growing startup ecosystem. With over 5 million STEM graduates annually and a burgeoning base of AI researchers, India possesses the intellectual capital required to build cutting-edge AI systems. Institutions like IITs, IIITs, and IISc have begun fostering AI research, while private players such as TCS, Infosys, and Wipro are integrating AI into their global services. In 2020, the government launched the National AI Strategy (AI for All) with a focus on inclusive growth, aiming to leverage AI in healthcare, agriculture, education, and smart mobility.\\n\\nOne of the most promising applications of AI in India lies in agriculture, where predictive analytics can guide farmers on optimal sowing times, weather forecasts, and pest control. In healthcare, AI-powered diagnostics can help address India’s doctor-patient ratio crisis, particularly in rural areas. Educational platforms are increasingly using AI to personalize learning paths, while smart governance tools are helping improve public service delivery and fraud detection.\\n\\nHowever, the path to AI-led growth is riddled with challenges. Chief among them is the digital divide. While metropolitan cities may embrace AI-driven solutions, rural India continues to struggle with basic internet access and digital literacy. The risk of job displacement due to automation also looms large, especially for low-skilled workers. Without effective skilling and re-skilling programs, AI could exacerbate existing socio-economic inequalities.\\n\\nAnother pressing concern is data privacy and ethics. As AI systems rely heavily on vast datasets, ensuring that personal data is used transparently and responsibly becomes vital. India is still shaping its data protection laws, and in the absence of a strong regulatory framework, AI systems may risk misuse or bias.\\n\\nTo harness AI responsibly, India must adopt a multi-stakeholder approach involving the government, academia, industry, and civil society. Policies should promote open datasets, encourage responsible innovation, and ensure ethical AI practices. There is also a need for international collaboration, particularly with countries leading in AI research, to gain strategic advantage and ensure interoperability in global systems.\\n\\nIndia’s demographic dividend, when paired with responsible AI adoption, can unlock massive economic growth, improve governance, and uplift marginalized communities. But this vision will only materialize if AI is seen not merely as a tool for automation, but as an enabler of human-centered development.\\n\\nIn conclusion, India in the age of AI is a story in the making — one of opportunity, responsibility, and transformation. The decisions we make today will not just determine India’s AI trajectory, but also its future as an inclusive, equitable, and innovation-driven society.\",\n",
       " 'language_feedback': \"The essay presents a well-structured argument regarding India's position in the age of AI, effectively discussing both opportunities and challenges. The language is formal and appropriate for an academic audience, with clear and precise use of terminology related to AI and technology. There is a logical flow from identifying India's strengths to outlining potential issues such as the digital divide and ethical concerns. The examples provided are pertinent and illustrate the points well. However, the essay could benefit from more varied sentence structures to enhance the reading experience and further engage the audience. Additionally, while the conclusion summarizes the main points effectively, it could be strengthened by reinforcing some of the specific solutions or actions that could be implemented. Overall, this is a solid essay that presents a thoughtful exploration of the topic.\",\n",
       " 'analysis_feedback': \"The essay provides a balanced view of India's potential and challenges in the field of AI. It discusses the strengths of India's workforce, educational institutions, and government initiatives, while also addressing significant challenges such as the digital divide, job displacement, and data privacy concerns. The analysis is well-structured and covers various sectors where AI can have an impact, including agriculture, healthcare, and education. However, while the points are relevant, the essay could benefit from deeper exploration of certain issues, such as specific case studies or statistics supporting claims about AI’s impact. Additionally, suggestions for concrete policy measures and practical examples of successful AI implementations could enhance the analysis. Overall, the essay presents a solid overview, but there’s room for a more in-depth examination of the complexities surrounding AI adoption in India.\",\n",
       " 'clarity_feedback': \"The essay presents a well-structured argument outlining both the opportunities and challenges India faces in the age of AI. It effectively highlights India's strengths, such as its pool of talented engineers and the initiatives taken by the government, while also acknowledging the digital divide and ethical concerns. The transitions between paragraphs are smooth, allowing for a coherent flow of thoughts, and the conclusion ties back to the theme of responsible AI adoption. However, the writing could benefit from more specific examples or data to support claims, particularly in the discussion of challenges, which would enhance clarity. Overall, the essay is clear in its presentation but could deepen its analysis.\",\n",
       " 'overall_feedback': \"**Summary of Feedback:**\\n\\nThe essay effectively discusses India's position in the age of AI, presenting a well-structured argument that balances the opportunities and challenges. The formal language is appropriate for an academic audience, with clear terminology related to AI and technology. It highlights India's strengths, including a skilled workforce and government initiatives, while also addressing significant issues such as the digital divide and ethical concerns. The logical flow of ideas and smooth transitions enhance the clarity of thought throughout the essay.\\n\\nHowever, there are areas for improvement. The essay could benefit from varied sentence structures to enhance engagement and the conclusion could be strengthened by incorporating specific solutions or actions. Additionally, a deeper exploration of certain issues, such as case studies and statistics, would bolster the analysis. Suggestions for concrete policy measures and practical examples of successful AI implementations could further enrich the discussion.\\n\\nOverall, while the essay provides a solid overview of India's AI landscape, there is room for more in-depth analysis and clearer support for claims, particularly regarding the challenges faced.\",\n",
       " 'individual_scores': [7, 8, 8],\n",
       " 'avg_score': 7.666666666666667}"
      ]
     },
     "execution_count": 10,
     "metadata": {},
     "output_type": "execute_result"
    }
   ],
   "source": [
    "final_state"
   ]
  }
 ],
 "metadata": {
  "kernelspec": {
   "display_name": "venv",
   "language": "python",
   "name": "python3"
  },
  "language_info": {
   "codemirror_mode": {
    "name": "ipython",
    "version": 3
   },
   "file_extension": ".py",
   "mimetype": "text/x-python",
   "name": "python",
   "nbconvert_exporter": "python",
   "pygments_lexer": "ipython3",
   "version": "3.13.5"
  }
 },
 "nbformat": 4,
 "nbformat_minor": 5
}
