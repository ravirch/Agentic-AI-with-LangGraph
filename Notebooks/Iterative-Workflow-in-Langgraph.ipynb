{
 "cells": [
  {
   "cell_type": "markdown",
   "id": "69801a20",
   "metadata": {},
   "source": [
    "This notebook demonstrates an AI-powered X (Twitter) post generator using LangGraph and LangChain to show iterative workflow in langgraph. It employs multiple LLMs for generating, evaluating, and optimizing tweets through an iterative workflow, ensuring high-quality and engaging social media content."
   ]
  },
  {
   "cell_type": "code",
   "execution_count": 1,
   "id": "c1169591",
   "metadata": {},
   "outputs": [],
   "source": [
    "from langgraph.graph import StateGraph,START, END\n",
    "from typing import TypedDict, Literal, Annotated\n",
    "from langchain_openai import ChatOpenAI\n",
    "from langchain_core.messages import SystemMessage, HumanMessage\n",
    "import operator"
   ]
  },
  {
   "cell_type": "code",
   "execution_count": 2,
   "id": "1b4151ce",
   "metadata": {},
   "outputs": [],
   "source": [
    "# based on capabilities, we can use different LLMs for different tasks\n",
    "\n",
    "generator_llm = ChatOpenAI(model='gpt-4o-mini')\n",
    "evaluator_llm = ChatOpenAI(model='gpt-4o')\n",
    "optimizer_llm = ChatOpenAI(model='gpt-4o-mini')"
   ]
  },
  {
   "cell_type": "code",
   "execution_count": 3,
   "id": "a1b212e6",
   "metadata": {},
   "outputs": [],
   "source": [
    "# Create schema for structured output\n",
    "\n",
    "from pydantic import BaseModel, Field\n",
    "\n",
    "class TweetEvaluation(BaseModel):\n",
    "    evaluation: Literal[\"approved\", \"needs_improvement\"] = Field(..., description=\"Final evaluation result.\")\n",
    "    feedback: str = Field(..., description=\"feedback for the tweet.\")"
   ]
  },
  {
   "cell_type": "code",
   "execution_count": 4,
   "id": "cc98e866",
   "metadata": {},
   "outputs": [],
   "source": [
    "structured_evaluator_llm = evaluator_llm.with_structured_output(TweetEvaluation)"
   ]
  },
  {
   "cell_type": "code",
   "execution_count": 5,
   "id": "c6de039a",
   "metadata": {},
   "outputs": [],
   "source": [
    "# state\n",
    "class TweetState(TypedDict):\n",
    "\n",
    "    topic: str\n",
    "    tweet: str\n",
    "    evaluation: Literal[\"approved\", \"needs_improvement\"]\n",
    "    feedback: str\n",
    "    iteration: int\n",
    "    max_iteration: int\n",
    "\n",
    "    tweet_history: Annotated[list[str], operator.add]\n",
    "    feedback_history: Annotated[list[str], operator.add]"
   ]
  },
  {
   "cell_type": "code",
   "execution_count": 6,
   "id": "216a94a1",
   "metadata": {},
   "outputs": [],
   "source": [
    "def generate_tweet(state: TweetState):\n",
    "    messages = [\n",
    "        SystemMessage(content=\"You are a funny and clever Twitter/X influencer.\"),\n",
    "        HumanMessage(content=f\"\"\"\n",
    "                    Write a short, original, and hilarious tweet on the topic: \"{state['topic']}\".\n",
    "\n",
    "                    Rules:\n",
    "                    - Do NOT use question-answer format.\n",
    "                    - Max 280 characters.\n",
    "                    - Use observational humor, irony, sarcasm, or cultural references.\n",
    "                    - Think in meme logic, punchlines, or relatable takes.\n",
    "                    - Use simple, day to day english\n",
    "                    \"\"\")\n",
    "            ]\n",
    "    response = generator_llm.invoke(messages).content\n",
    "    return {'tweet': response, 'tweet_history': [response]}"
   ]
  },
  {
   "cell_type": "code",
   "execution_count": 7,
   "id": "5a92e27e",
   "metadata": {},
   "outputs": [],
   "source": [
    "def evaluate_tweet(state: TweetState):\n",
    "    messages = [\n",
    "    SystemMessage(content=\"You are a ruthless, no-laugh-given Twitter critic. You evaluate tweets based on humor, originality, virality, and tweet format.\"),\n",
    "    HumanMessage(content=f\"\"\"\n",
    "Evaluate the following tweet:\n",
    "\n",
    "Tweet: \"{state['tweet']}\"\n",
    "\n",
    "Use the criteria below to evaluate the tweet:\n",
    "\n",
    "1. Originality – Is this fresh, or have you seen it a hundred times before?  \n",
    "2. Humor – Did it genuinely make you smile, laugh, or chuckle?  \n",
    "3. Punchiness – Is it short, sharp, and scroll-stopping?  \n",
    "4. Virality Potential – Would people retweet or share it?  \n",
    "5. Format – Is it a well-formed tweet (not a setup-punchline joke, not a Q&A joke, and under 280 characters)?\n",
    "\n",
    "Auto-reject if:\n",
    "- It's written in question-answer format (e.g., \"Why did...\" or \"What happens when...\")\n",
    "- It exceeds 280 characters\n",
    "- It reads like a traditional setup-punchline joke\n",
    "- Dont end with generic, throwaway, or deflating lines that weaken the humor (e.g., “Masterpieces of the auntie-uncle universe” or vague summaries)\n",
    "\n",
    "### Respond ONLY in structured format:\n",
    "- evaluation: \"approved\" or \"needs_improvement\"  \n",
    "- feedback: One paragraph explaining the strengths and weaknesses \n",
    "\"\"\")\n",
    "]\n",
    "\n",
    "    response = structured_evaluator_llm.invoke(messages)\n",
    "\n",
    "    return {'evaluation':response.evaluation, 'feedback': response.feedback, 'feedback_history': [response.feedback]}"
   ]
  },
  {
   "cell_type": "code",
   "execution_count": 8,
   "id": "6670db83",
   "metadata": {},
   "outputs": [],
   "source": [
    "def optimize_tweet(state: TweetState):\n",
    "\n",
    "    messages = [\n",
    "        SystemMessage(content=\"You punch up tweets for virality and humor based on given feedback.\"),\n",
    "        HumanMessage(content=f\"\"\"\n",
    "Improve the tweet based on this feedback:\n",
    "\"{state['feedback']}\"\n",
    "\n",
    "Topic: \"{state['topic']}\"\n",
    "Original Tweet:\n",
    "{state['tweet']}\n",
    "\n",
    "Re-write it as a short, viral-worthy tweet. Avoid Q&A style and stay under 280 characters.\n",
    "\"\"\")\n",
    "    ]\n",
    "\n",
    "    response = optimizer_llm.invoke(messages).content\n",
    "    iteration = state['iteration'] + 1\n",
    "\n",
    "    return {'tweet': response, 'iteration': iteration, 'tweet_history': [response]}"
   ]
  },
  {
   "cell_type": "code",
   "execution_count": 9,
   "id": "e0d487a1",
   "metadata": {},
   "outputs": [],
   "source": [
    "def route_evaluation(state: TweetState):\n",
    "\n",
    "    if state['evaluation'] == 'approved' or state['iteration'] >= state['max_iteration']:\n",
    "        return 'approved'\n",
    "    else:\n",
    "        return 'needs_improvement'"
   ]
  },
  {
   "cell_type": "code",
   "execution_count": 10,
   "id": "91e30877",
   "metadata": {},
   "outputs": [],
   "source": [
    "graph = StateGraph(TweetState)\n",
    "\n",
    "graph.add_node('generate', generate_tweet)\n",
    "graph.add_node('evaluate', evaluate_tweet)\n",
    "graph.add_node('optimize', optimize_tweet)\n",
    "\n",
    "graph.add_edge(START, 'generate')\n",
    "graph.add_edge('generate', 'evaluate')\n",
    "\n",
    "# if approved send to END else send to optimize node\n",
    "graph.add_conditional_edges('evaluate', route_evaluation, {'approved': END, 'needs_improvement': 'optimize'})\n",
    "graph.add_edge('optimize', 'evaluate')\n",
    "\n",
    "workflow = graph.compile()"
   ]
  },
  {
   "cell_type": "code",
   "execution_count": 11,
   "id": "2d5741b1",
   "metadata": {},
   "outputs": [],
   "source": [
    "# visualize\n",
    "try:\n",
    "    from IPython.display import Image\n",
    "    Image(workflow.get_graph().draw_mermaid_png())\n",
    "except:\n",
    "    pass"
   ]
  },
  {
   "cell_type": "code",
   "execution_count": 12,
   "id": "42def383",
   "metadata": {},
   "outputs": [
    {
     "name": "stdout",
     "output_type": "stream",
     "text": [
      "---\n",
      "config:\n",
      "  flowchart:\n",
      "    curve: linear\n",
      "---\n",
      "graph TD;\n",
      "\t__start__([<p>__start__</p>]):::first\n",
      "\tgenerate(generate)\n",
      "\tevaluate(evaluate)\n",
      "\toptimize(optimize)\n",
      "\t__end__([<p>__end__</p>]):::last\n",
      "\t__start__ --> generate;\n",
      "\tevaluate -. &nbsp;approved&nbsp; .-> __end__;\n",
      "\tevaluate -. &nbsp;needs_improvement&nbsp; .-> optimize;\n",
      "\tgenerate --> evaluate;\n",
      "\toptimize --> evaluate;\n",
      "\tclassDef default fill:#f2f0ff,line-height:1.2\n",
      "\tclassDef first fill-opacity:0\n",
      "\tclassDef last fill:#bfb6fc\n",
      "\n"
     ]
    }
   ],
   "source": [
    "# we can visualize the graph using mermaid syntax\n",
    "# https://mermaid.live/\n",
    "# sometime due to network issues, image may not render, in that case use mermaid_code below to visualize\n",
    "\n",
    "mermaid_code = workflow.get_graph().draw_mermaid()\n",
    "print(mermaid_code)"
   ]
  },
  {
   "cell_type": "code",
   "execution_count": 13,
   "id": "f98ff23c",
   "metadata": {},
   "outputs": [],
   "source": [
    "initial_state = {\n",
    "    \"topic\": \"Egdbeq\",\n",
    "    \"iteration\": 1,\n",
    "    \"max_iteration\": 5\n",
    "}\n",
    "final_state = workflow.invoke(initial_state)"
   ]
  },
  {
   "cell_type": "code",
   "execution_count": 14,
   "id": "52bdf78c",
   "metadata": {},
   "outputs": [
    {
     "data": {
      "text/plain": [
       "{'topic': 'Egdbeq',\n",
       " 'tweet': 'My keyboard this Monday be like: \"I can’t type without coffee!\" ☕️ If it keeps this up, I might have to send it to therapy or just get it a double shot! #MondayMood #CaffeineConfessions',\n",
       " 'evaluation': 'needs_improvement',\n",
       " 'feedback': \"The tweet attempts to play off the relatable theme of needing coffee on a Monday morning, a concept that is quite overused, diminishing its originality. While it aims for humor, the joke about sending the keyboard to therapy or giving it a double shot falls flat and doesn't quite land a punchy impact or evoke a strong reaction. The format is acceptable as it doesn't follow a setup-punchline structure and fits within the character limit, but the ending hashtags feel generic and don't add significant value to increase its virality potential. Overall, although the structure is sound, the content requires more creativity to stand out.\",\n",
       " 'iteration': 5,\n",
       " 'max_iteration': 5,\n",
       " 'tweet_history': ['Just found out \"Egdbeq\" is not a new trendy snack. Turns out it\\'s just my keyboard fighting back after I typed \"Monday\" one too many times. 🥴🍪  Guess I’ll send it an apology gift card. #KeyboardDrama #TechTherapy',\n",
       "  \"Just discovered that my keyboard’s secret language isn’t a trendy snack—it's the sound of my sanity unraveling over Mondays. 😅🍪 Sending it a digital apology gift card… or maybe just a hard reboot! #KeyboardWhisperer #MondayMadness\",\n",
       "  \"My keyboard's trying to tell me something this Monday—sounds like it’s screaming for coffee. ☕️ At this point, I’m considering sending it a therapy bill instead of a reboot! #MondayBlues\",\n",
       "  'My keyboard this Monday: \"Help! I can\\'t function without coffee!\" ☕️ It\\'s like it’s auditioning for a role in \\'The Office\\' sequel. If it keeps this up, I might have to get it a therapist—or just a stronger brew! #MondayMotivation #KeyboardWhispers',\n",
       "  'My keyboard this Monday be like: \"I can’t type without coffee!\" ☕️ If it keeps this up, I might have to send it to therapy or just get it a double shot! #MondayMood #CaffeineConfessions'],\n",
       " 'feedback_history': [\"The tweet attempts to create humor around the common frustration of Mondays and computer quirks, which is a relatable topic but somewhat overused, leading to a lack of originality. The concept of a keyboard fighting back is mildly amusing but not strong enough to generate genuine laughter. While the tweet avoids a traditional setup-punchline format and stays within the character limit, it relies too heavily on a predictable storyline without a striking punchline or twist that could increase its virality potential. Ending with hashtags like #KeyboardDrama and #TechTherapy doesn't significantly enhance the humor or shareability.\",\n",
       "  \"The tweet attempts originality by personifying a keyboard's sound as unraveling sanity, which is somewhat fresh. However, it falls short in humor as the connection between keyboards, sanity, and Mondays seems forced rather than clever or naturally funny. The excessive use of emojis and hashtags dilutes the punchiness, making it less likely to stop a quick scroll. While the format doesn't violate any auto-reject conditions, it lacks the concise wit or sharpness necessary for strong virality potential. The idea could be improved by honing in on a more specific, relatable aspect of Monday blues without over-explaining.\",\n",
       "  \"The tweet attempts a humorous take on Monday blues by personifying a keyboard and tying it to coffee, but it falls into the overly familiar genre of office humor. While the formatting is correct, it's neither short nor punchy enough to stand out in a fast-scrolling feed. The humor relies heavily on a common cliché of Monday struggles with technology and coffee dependence, lacking a fresh angle. Additionally, it ends with a predictable line about sending a therapy bill, which doesn’t elevate the humor. For higher virality, it needs a more unique twist or sharper punch.\",\n",
       "  \"The tweet attempts to leverage a common Monday sentiment involving coffee dependence, which is a trope well-worn and lacking in originality. While it does weave in elements of humor with a playful personification of a keyboard and a pop culture reference to 'The Office,' it doesn’t stand out or deliver a strong, unique punch. The humor feels forced and doesn't genuinely provoke laughter. Its length with multiple ideas strung together can deter its punchiness, potentially affecting its virality as the humor might get lost on scrolling audiences. The formatting adheres to tweet standards, but the tweet itself feels like a collection of thoughts that fail to cohesively elevate the humor or originality. Striving for a more concise and original angle could enhance its impact.\",\n",
       "  \"The tweet attempts to play off the relatable theme of needing coffee on a Monday morning, a concept that is quite overused, diminishing its originality. While it aims for humor, the joke about sending the keyboard to therapy or giving it a double shot falls flat and doesn't quite land a punchy impact or evoke a strong reaction. The format is acceptable as it doesn't follow a setup-punchline structure and fits within the character limit, but the ending hashtags feel generic and don't add significant value to increase its virality potential. Overall, although the structure is sound, the content requires more creativity to stand out.\"]}"
      ]
     },
     "execution_count": 14,
     "metadata": {},
     "output_type": "execute_result"
    }
   ],
   "source": [
    "final_state"
   ]
  }
 ],
 "metadata": {
  "kernelspec": {
   "display_name": "venv",
   "language": "python",
   "name": "python3"
  },
  "language_info": {
   "codemirror_mode": {
    "name": "ipython",
    "version": 3
   },
   "file_extension": ".py",
   "mimetype": "text/x-python",
   "name": "python",
   "nbconvert_exporter": "python",
   "pygments_lexer": "ipython3",
   "version": "3.13.5"
  }
 },
 "nbformat": 4,
 "nbformat_minor": 5
}
