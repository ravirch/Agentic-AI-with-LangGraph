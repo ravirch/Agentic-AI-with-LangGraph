{
 "cells": [
  {
   "cell_type": "markdown",
   "id": "23cf1d67",
   "metadata": {},
   "source": [
    "### BMI WorkFlow\n",
    "\n",
    "- This project implements a workflow for calculating and classifying Body Mass Index (BMI) using a state-based graph approach. It defines a BMIState to store weight, height, BMI, and category, and builds a workflow with nodes to compute BMI and label it into categories (Underweight, Normal, Overweight, Obesity). The project demonstrates how to design, execute, and visualize a BMI classification pipeline with clear data flow using StateGraph in LangGraph.\n",
    "\n",
    "- This is a very simple workflow in langgraph to show ho to create and execute graph, later in this notebook we see how to use LLM to make more complex graphs."
   ]
  },
  {
   "cell_type": "code",
   "execution_count": 1,
   "id": "35c6acb9",
   "metadata": {},
   "outputs": [],
   "source": [
    "from langgraph.graph import StateGraph, START, END\n",
    "from typing import TypedDict"
   ]
  },
  {
   "cell_type": "code",
   "execution_count": 2,
   "id": "146422bb",
   "metadata": {},
   "outputs": [
    {
     "data": {
      "image/png": "[encoded data removed]",
      "text/plain": [
       "<IPython.core.display.Image object>"
      ]
     },
     "execution_count": 2,
     "metadata": {},
     "output_type": "execute_result"
    }
   ],
   "source": [
    "# for any wf, first we should define state\n",
    "# TypeDict is a special type of dict where we can define type of data for keys\n",
    "\n",
    "class BMIState(TypedDict):\n",
    "    weight_kg: float\n",
    "    height_m: float\n",
    "    bmi: float\n",
    "    category: str\n",
    "\n",
    "# First we add our node functions and together we can create actual function\n",
    "# in graph every node must take state as input and return state as output\n",
    "def calculate_bmi(state: BMIState) -> BMIState:\n",
    "    weight = state[\"weight_kg\"]\n",
    "    height = state[\"height_m\"]\n",
    "    bmi = weight / (height ** 2)\n",
    "\n",
    "    # update and return state\n",
    "    state[\"bmi\"] = round(bmi, 2)\n",
    "    return state\n",
    "\n",
    "# this is 2nd node function\n",
    "def label_bmi(state: BMIState) -> BMIState:\n",
    "    bmi = state[\"bmi\"]\n",
    "    if bmi < 18.5:\n",
    "        category = \"Underweight\"\n",
    "    elif 18.5 <= bmi < 24.9:\n",
    "        category = \"Normal weight\"\n",
    "    elif 25 <= bmi < 29.9:\n",
    "        category = \"Overweight\"\n",
    "    else:\n",
    "        category = \"Obesity\"\n",
    "\n",
    "    state[\"category\"] = category\n",
    "    return state\n",
    "\n",
    "# define graph\n",
    "graph = StateGraph(BMIState)\n",
    "\n",
    "# add nodes\n",
    "graph.add_node(\"calculate_bmi\",calculate_bmi)\n",
    "graph.add_node(\"label_bmi\", label_bmi)\n",
    "\n",
    "# add edges\n",
    "graph.add_edge(START, \"calculate_bmi\")\n",
    "graph.add_edge(\"calculate_bmi\", \"label_bmi\")\n",
    "graph.add_edge(\"label_bmi\", END)\n",
    "\n",
    "# compile graph\n",
    "workflow = graph.compile()\n",
    "\n",
    "# visualize graph\n",
    "from IPython.display import Image\n",
    "Image(workflow.get_graph().draw_mermaid_png())"
   ]
  },
  {
   "cell_type": "code",
   "execution_count": 3,
   "id": "39b211a3",
   "metadata": {},
   "outputs": [
    {
     "name": "stdout",
     "output_type": "stream",
     "text": [
      "{'weight_kg': 70, 'height_m': 1.75, 'bmi': 22.86, 'category': 'Normal weight'}\n"
     ]
    }
   ],
   "source": [
    "# next step is to execute the graph, I/P is always a state\n",
    "initial_state = {\"weight_kg\": 70, \"height_m\": 1.75}\n",
    "\n",
    "# op is also always state\n",
    "final_state = workflow.invoke({\"weight_kg\": 70, \"height_m\": 1.75})\n",
    "\n",
    "print(final_state)"
   ]
  },
  {
   "cell_type": "markdown",
   "id": "62b0bfe3",
   "metadata": {},
   "source": [
    "### Workflow with LLM\n",
    "\n",
    "This project builds a simple workflow using StateGraph to handle question-answering with a Large Language Model (LLM). It defines an LLMState to store questions and answers, creates a node that formulates prompts, queries the model, and updates the state with responses. The workflow demonstrates how to structure, execute, and visualize an LLM-based pipeline in a modular and reusable way."
   ]
  },
  {
   "cell_type": "code",
   "execution_count": 4,
   "id": "351c95a4",
   "metadata": {},
   "outputs": [
    {
     "data": {
      "text/plain": [
       "True"
      ]
     },
     "execution_count": 4,
     "metadata": {},
     "output_type": "execute_result"
    }
   ],
   "source": [
    "from langchain_openai import ChatOpenAI\n",
    "from langgraph.graph import StateGraph, START, END\n",
    "from typing import TypedDict\n",
    "from dotenv import load_dotenv\n",
    "\n",
    "load_dotenv(override=True)"
   ]
  },
  {
   "cell_type": "code",
   "execution_count": 5,
   "id": "b890f583",
   "metadata": {},
   "outputs": [
    {
     "data": {
      "image/png": "[encoded data removed]",
      "text/plain": [
       "<IPython.core.display.Image object>"
      ]
     },
     "execution_count": 5,
     "metadata": {},
     "output_type": "execute_result"
    }
   ],
   "source": [
    "# initialize LLM\n",
    "model = ChatOpenAI()\n",
    "\n",
    "# create state\n",
    "class LLMState(TypedDict):\n",
    "    question: str\n",
    "    answer: str\n",
    "\n",
    "# create node function\n",
    "def llm_qa(state: LLMState) -> LLMState:\n",
    "    # extract question from state\n",
    "    question = state['question']\n",
    "\n",
    "    # form prompt\n",
    "    prompt = f\"Answer the following question concisely:\\n{question}\"\n",
    "\n",
    "    # ask question from LLM\n",
    "    answer = model.invoke(prompt).content\n",
    "\n",
    "    # update answer in state\n",
    "    state['answer'] = answer\n",
    "\n",
    "    return state\n",
    "\n",
    "# make graph\n",
    "graph = StateGraph(LLMState)\n",
    "\n",
    "# add nodes\n",
    "graph.add_node(\"llm_qa\",llm_qa)\n",
    "\n",
    "# add edges\n",
    "graph.add_edge(START, \"llm_qa\")\n",
    "graph.add_edge(\"llm_qa\", END)\n",
    "\n",
    "# compile graph into workflow\n",
    "workflow = graph.compile()\n",
    "\n",
    "# visualize graph\n",
    "from IPython.display import Image\n",
    "Image(workflow.get_graph().draw_mermaid_png())"
   ]
  },
  {
   "cell_type": "code",
   "execution_count": 6,
   "id": "f2077274",
   "metadata": {},
   "outputs": [
    {
     "name": "stdout",
     "output_type": "stream",
     "text": [
      "{'question': 'how are you?', 'answer': 'I am well, thank you.'}\n"
     ]
    }
   ],
   "source": [
    "# execute graph\n",
    "initial_state = LLMState(question=\"how are you?\")\n",
    "final_state = workflow.invoke(initial_state)\n",
    "print(final_state)"
   ]
  },
  {
   "cell_type": "markdown",
   "id": "fa049409",
   "metadata": {},
   "source": [
    "### Prompt Chaining - Multiple LLMs\n",
    "\n",
    "This project creates a workflow for automated blog generation using a state-driven graph. It defines a blogState to track the topic, outline, and final blog content. The workflow includes nodes for generating a structured outline and then expanding it into a complete blog post using a Large Language Model (LLM). This modular approach demonstrates how to automate content creation in a step-by-step, reusable pipeline."
   ]
  },
  {
   "cell_type": "code",
   "execution_count": 7,
   "id": "a838e578",
   "metadata": {},
   "outputs": [
    {
     "data": {
      "text/plain": [
       "True"
      ]
     },
     "execution_count": 7,
     "metadata": {},
     "output_type": "execute_result"
    }
   ],
   "source": [
    "from langchain_openai import ChatOpenAI\n",
    "from langgraph.graph import StateGraph, START, END\n",
    "from typing import TypedDict\n",
    "from dotenv import load_dotenv\n",
    "\n",
    "load_dotenv()"
   ]
  },
  {
   "cell_type": "code",
   "execution_count": 8,
   "id": "267fbcb2",
   "metadata": {},
   "outputs": [
    {
     "data": {
      "image/png": "[encoded data removed]",
      "text/plain": [
       "<IPython.core.display.Image object>"
      ]
     },
     "execution_count": 8,
     "metadata": {},
     "output_type": "execute_result"
    }
   ],
   "source": [
    "# Model\n",
    "model = ChatOpenAI()\n",
    "\n",
    "# State\n",
    "class blogState(TypedDict):\n",
    "    topic: str\n",
    "    outline: str\n",
    "    blog: str\n",
    "\n",
    "# node1\n",
    "def generate_outline(state: blogState) -> blogState:\n",
    "    prompt = f\"Write a detailed outline for a blog post about {state['topic']}\"\n",
    "    outline = model.invoke(prompt)\n",
    "    state['outline'] = outline.content\n",
    "    return state\n",
    "\n",
    "# node 2\n",
    "def generate_blog(state: blogState) -> blogState:\n",
    "    prompt = f\"Write a blog post based on the following topic:\\n {state[\"topic\"]} and outline:\\n{state['outline']}\"\n",
    "    blog = model.invoke(prompt)\n",
    "    state['blog'] = blog.content\n",
    "    return state\n",
    "\n",
    "graph = StateGraph(blogState)\n",
    "\n",
    "# add node\n",
    "graph.add_node(\"generate_outline\",generate_outline)\n",
    "graph.add_node(\"generate_blog\",generate_blog)\n",
    "\n",
    "# add edges\n",
    "graph.add_edge(START, \"generate_outline\")\n",
    "graph.add_edge(\"generate_outline\", \"generate_blog\")\n",
    "graph.add_edge(\"generate_blog\", END)\n",
    "\n",
    "# compile graph\n",
    "workflow = graph.compile()\n",
    "\n",
    "# visualize graph\n",
    "from IPython.display import Image\n",
    "Image(workflow.get_graph().draw_mermaid_png())"
   ]
  },
  {
   "cell_type": "code",
   "execution_count": 9,
   "id": "58d5fe1d",
   "metadata": {},
   "outputs": [
    {
     "name": "stdout",
     "output_type": "stream",
     "text": [
      "{'topic': 'The future of AI in healthcare', 'outline': 'I. Introduction\\n    A. Brief overview of AI in healthcare\\n    B. Importance of AI in revolutionizing healthcare industry\\n\\nII. Current applications of AI in healthcare\\n    A. Diagnosis and treatment recommendations \\n    B. Predictive analytics for patient outcomes \\n    C. Robot-assisted surgery \\n    D. Virtual health assistants \\n\\nIII. Advantages of AI in healthcare\\n    A. Improved accuracy and efficiency in diagnosis \\n    B. Personalized treatment plans based on individual patient data \\n    C. Reduction in medical errors and complications \\n    D. Cost savings for patients and healthcare providers \\n\\nIV. Challenges and limitations of AI in healthcare\\n    A. Data privacy and security concerns \\n    B. Lack of regulatory frameworks for AI algorithms \\n    C. Bias in AI algorithms \\n    D. Resistance from healthcare professionals \\n\\nV. The future of AI in healthcare\\n    A. Integration of AI with electronic health records \\n    B. Expansion of AI in telemedicine and remote patient monitoring \\n    C. Development of AI-powered medical devices \\n    D. Collaboration between tech companies and healthcare providers \\n\\nVI. Ethical considerations of AI in healthcare\\n    A. Ensuring transparency and accountability in AI algorithms \\n    B. Addressing concerns related to patient consent and data sharing \\n    C. Mitigating biases and discrimination in AI algorithms \\n    D. Maintaining patient trust in AI technologies \\n\\nVII. Conclusion\\n    A. Recap of key points discussed in the blog post \\n    B. Emphasis on the potential of AI to transform healthcare delivery \\n    C. Call to action for stakeholders to collaborate and address challenges in implementing AI in healthcare.', 'blog': 'AI, or artificial intelligence, has been making significant strides in various industries, with healthcare being one of the key areas of focus. The integration of AI in healthcare has the potential to revolutionize the way medical professionals diagnose, treat, and care for patients. In this blog post, we will explore the current applications, advantages, challenges, and limitations of AI in healthcare, as well as the future implications and ethical considerations of this technology.\\n\\nAI in healthcare is already being used for a wide range of applications, including diagnosis and treatment recommendations, predictive analytics for patient outcomes, robot-assisted surgery, and virtual health assistants. These applications have led to improved accuracy and efficiency in diagnosis, personalized treatment plans based on individual patient data, and a reduction in medical errors and complications. In addition, AI in healthcare has resulted in cost savings for both patients and healthcare providers.\\n\\nHowever, the implementation of AI in healthcare also comes with challenges and limitations. Data privacy and security concerns, lack of regulatory frameworks for AI algorithms, bias in AI algorithms, and resistance from healthcare professionals are some of the key challenges that need to be addressed. Despite these challenges, the future of AI in healthcare looks promising.\\n\\nMoving forward, the integration of AI with electronic health records, expansion of AI in telemedicine and remote patient monitoring, development of AI-powered medical devices, and collaboration between tech companies and healthcare providers are some of the potential areas for growth in AI in healthcare. It is essential for stakeholders to collaborate and address challenges in implementing AI in healthcare to realize the full potential of this technology.\\n\\nEthical considerations also play a crucial role in the adoption of AI in healthcare. Ensuring transparency and accountability in AI algorithms, addressing concerns related to patient consent and data sharing, mitigating biases and discrimination in AI algorithms, and maintaining patient trust in AI technologies are some of the key ethical issues that need to be addressed.\\n\\nIn conclusion, the future of AI in healthcare holds immense potential to transform the way healthcare is delivered. By addressing the challenges and limitations of AI implementation in healthcare and prioritizing ethical considerations, stakeholders can work together to harness the power of AI to improve patient outcomes and revolutionize the healthcare industry. It is imperative for all stakeholders to collaborate and take action to ensure the successful integration of AI in healthcare for the benefit of patients and healthcare providers alike.'}\n"
     ]
    }
   ],
   "source": [
    "initial_state = blogState(topic=\"The future of AI in healthcare\")\n",
    "\n",
    "final_state = workflow.invoke(initial_state)\n",
    "print(final_state)"
   ]
  },
  {
   "cell_type": "code",
   "execution_count": 10,
   "id": "ed516a71",
   "metadata": {},
   "outputs": [
    {
     "data": {
      "text/markdown": [
       "I. Introduction\n",
       "    A. Brief overview of AI in healthcare\n",
       "    B. Importance of AI in revolutionizing healthcare industry\n",
       "\n",
       "II. Current applications of AI in healthcare\n",
       "    A. Diagnosis and treatment recommendations \n",
       "    B. Predictive analytics for patient outcomes \n",
       "    C. Robot-assisted surgery \n",
       "    D. Virtual health assistants \n",
       "\n",
       "III. Advantages of AI in healthcare\n",
       "    A. Improved accuracy and efficiency in diagnosis \n",
       "    B. Personalized treatment plans based on individual patient data \n",
       "    C. Reduction in medical errors and complications \n",
       "    D. Cost savings for patients and healthcare providers \n",
       "\n",
       "IV. Challenges and limitations of AI in healthcare\n",
       "    A. Data privacy and security concerns \n",
       "    B. Lack of regulatory frameworks for AI algorithms \n",
       "    C. Bias in AI algorithms \n",
       "    D. Resistance from healthcare professionals \n",
       "\n",
       "V. The future of AI in healthcare\n",
       "    A. Integration of AI with electronic health records \n",
       "    B. Expansion of AI in telemedicine and remote patient monitoring \n",
       "    C. Development of AI-powered medical devices \n",
       "    D. Collaboration between tech companies and healthcare providers \n",
       "\n",
       "VI. Ethical considerations of AI in healthcare\n",
       "    A. Ensuring transparency and accountability in AI algorithms \n",
       "    B. Addressing concerns related to patient consent and data sharing \n",
       "    C. Mitigating biases and discrimination in AI algorithms \n",
       "    D. Maintaining patient trust in AI technologies \n",
       "\n",
       "VII. Conclusion\n",
       "    A. Recap of key points discussed in the blog post \n",
       "    B. Emphasis on the potential of AI to transform healthcare delivery \n",
       "    C. Call to action for stakeholders to collaborate and address challenges in implementing AI in healthcare."
      ],
      "text/plain": [
       "<IPython.core.display.Markdown object>"
      ]
     },
     "metadata": {},
     "output_type": "display_data"
    }
   ],
   "source": [
    "# Let's use Markdown and display to display better\n",
    "\n",
    "from IPython.display import Markdown, display\n",
    "display(Markdown(final_state[\"outline\"]))"
   ]
  },
  {
   "cell_type": "code",
   "execution_count": 11,
   "id": "0a97817d",
   "metadata": {},
   "outputs": [
    {
     "data": {
      "text/markdown": [
       "AI, or artificial intelligence, has been making significant strides in various industries, with healthcare being one of the key areas of focus. The integration of AI in healthcare has the potential to revolutionize the way medical professionals diagnose, treat, and care for patients. In this blog post, we will explore the current applications, advantages, challenges, and limitations of AI in healthcare, as well as the future implications and ethical considerations of this technology.\n",
       "\n",
       "AI in healthcare is already being used for a wide range of applications, including diagnosis and treatment recommendations, predictive analytics for patient outcomes, robot-assisted surgery, and virtual health assistants. These applications have led to improved accuracy and efficiency in diagnosis, personalized treatment plans based on individual patient data, and a reduction in medical errors and complications. In addition, AI in healthcare has resulted in cost savings for both patients and healthcare providers.\n",
       "\n",
       "However, the implementation of AI in healthcare also comes with challenges and limitations. Data privacy and security concerns, lack of regulatory frameworks for AI algorithms, bias in AI algorithms, and resistance from healthcare professionals are some of the key challenges that need to be addressed. Despite these challenges, the future of AI in healthcare looks promising.\n",
       "\n",
       "Moving forward, the integration of AI with electronic health records, expansion of AI in telemedicine and remote patient monitoring, development of AI-powered medical devices, and collaboration between tech companies and healthcare providers are some of the potential areas for growth in AI in healthcare. It is essential for stakeholders to collaborate and address challenges in implementing AI in healthcare to realize the full potential of this technology.\n",
       "\n",
       "Ethical considerations also play a crucial role in the adoption of AI in healthcare. Ensuring transparency and accountability in AI algorithms, addressing concerns related to patient consent and data sharing, mitigating biases and discrimination in AI algorithms, and maintaining patient trust in AI technologies are some of the key ethical issues that need to be addressed.\n",
       "\n",
       "In conclusion, the future of AI in healthcare holds immense potential to transform the way healthcare is delivered. By addressing the challenges and limitations of AI implementation in healthcare and prioritizing ethical considerations, stakeholders can work together to harness the power of AI to improve patient outcomes and revolutionize the healthcare industry. It is imperative for all stakeholders to collaborate and take action to ensure the successful integration of AI in healthcare for the benefit of patients and healthcare providers alike."
      ],
      "text/plain": [
       "<IPython.core.display.Markdown object>"
      ]
     },
     "metadata": {},
     "output_type": "display_data"
    }
   ],
   "source": [
    "display(Markdown(final_state[\"blog\"]))"
   ]
  }
 ],
 "metadata": {
  "kernelspec": {
   "display_name": "venv",
   "language": "python",
   "name": "python3"
  },
  "language_info": {
   "codemirror_mode": {
    "name": "ipython",
    "version": 3
   },
   "file_extension": ".py",
   "mimetype": "text/x-python",
   "name": "python",
   "nbconvert_exporter": "python",
   "pygments_lexer": "ipython3",
   "version": "3.13.5"
  }
 },
 "nbformat": 4,
 "nbformat_minor": 5
}
